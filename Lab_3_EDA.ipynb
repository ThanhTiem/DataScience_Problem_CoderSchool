{
  "nbformat": 4,
  "nbformat_minor": 0,
  "metadata": {
    "colab": {
      "name": "Copy of Lab_3_EDA.ipynb",
      "provenance": [],
      "collapsed_sections": [
        "MoBgPjDiwhdV"
      ]
    },
    "language_info": {
      "codemirror_mode": {
        "name": "ipython",
        "version": 3
      },
      "file_extension": ".py",
      "mimetype": "text/x-python",
      "name": "python",
      "nbconvert_exporter": "python",
      "pygments_lexer": "ipython3",
      "version": "3.6.5"
    },
    "kernelspec": {
      "display_name": "Python 3",
      "language": "python",
      "name": "python3"
    }
  },
  "cells": [
    {
      "cell_type": "markdown",
      "metadata": {
        "id": "x7fdTGs4SnyS",
        "colab_type": "text"
      },
      "source": [
        "![](https://i.imgur.com/0AUxkXt.png)"
      ]
    },
    {
      "cell_type": "markdown",
      "metadata": {
        "id": "_uqy69P0Pm0L",
        "colab_type": "text"
      },
      "source": [
        "# Lab 3 - From data to insights\n",
        "\n",
        "Before you explore the data, write down a short list of what you expect to see in the data: the distribution of key variables, the relationships between important pairs of them, and so on. Such a list is essentially a prediction based on your current understanding of the business.\n",
        "\n",
        "Now analyze the data. Make plots, do summaries, whatever is needed to see if it matches your expectations.\n",
        "\n",
        "Is there anything that doesn’t match? Anything that makes you go “That’s odd” or “That doesn’t make any sense.”?\n",
        "\n",
        "Zoom in and try to understand what in your business is making that weird thing show up in the data like that. This is the critical step.\n",
        "\n",
        "You may have just found an insight into the business and increased your understanding\n",
        "\n",
        "\n",
        "## The data analysis checklist\n",
        "\n",
        "This checklist can be used as a guide during the process of a data analysis, or as a way to evaluate the quality of a reported data analysis.\n",
        "\n",
        "### Answering the first questions\n",
        "\n",
        "1. Did you define the metric for success before beginning?\n",
        "2. Did you understand the context for the question and business application?\n",
        "3. Did you consider whether the question could be answered with the available data?\n",
        "\n",
        "### Cleaning the data\n",
        "\n",
        "1. Did you identify the missing data?\n",
        "2. Is each variable one column?\n",
        "3. Do different data types appear in each table?\n",
        "4. Did you try to identify any errors or miscoding of variables?\n",
        "5. Did you check for outliers?\n",
        "\n",
        "### Exploratory analysis\n",
        "\n",
        "1. Did you make univariate plots (histogram, distplot, boxplot)?\n",
        "2. Did you consider correlations between variables (scatterplot, jointplot, kde plot, correlation matrix)?\n",
        "3. Did you check the units of all data points to make sure they are in the right range?\n",
        "\n",
        "### Presentations\n",
        "\n",
        "1. Did you lead with a brief, understandable to everyone of your problem?\n",
        "2. Did you explain the data, describe the question of interest?\n",
        "3. Did you make sure all legends and axes were legible from the back of the room?"
      ]
    },
    {
      "cell_type": "markdown",
      "metadata": {
        "id": "ZBc0glanPm0M",
        "colab_type": "text"
      },
      "source": [
        "## Example - San Francisco city employee salary data\n",
        "\n",
        "One way to understand how a city government works is by looking at who it employs and how its employees are compensated. This data contains the names, job title, and compensation for San Francisco city employees on an annual basis from 2011 to 2014.\n",
        "\n",
        "\n",
        "### Step 1 - Exploration Ideas\n",
        "\n",
        "1. How have salaries changed over time between different groups of people?\n",
        "2. How are base pay, overtime pay, and benefits allocated between different groups?\n",
        "4. How is budget allocated based on different groups and responsibilities?\n",
        "\n",
        "### Step 2 - Checking the data\n",
        "\n",
        "**Import tools set**"
      ]
    },
    {
      "cell_type": "code",
      "metadata": {
        "id": "9Cx3LXxfPm0N",
        "colab_type": "code",
        "colab": {}
      },
      "source": [
        "import numpy as np\n",
        "import pandas as pd\n",
        "import seaborn as sns\n",
        "import matplotlib.pyplot as plt\n",
        "%matplotlib inline\n",
        "import warnings\n",
        "warnings.filterwarnings('ignore')\n",
        "\n",
        "sns.set_style(\"whitegrid\")"
      ],
      "execution_count": 0,
      "outputs": []
    },
    {
      "cell_type": "markdown",
      "metadata": {
        "id": "mFTQu0j6Pm0Q",
        "colab_type": "text"
      },
      "source": [
        "**Import data**"
      ]
    },
    {
      "cell_type": "code",
      "metadata": {
        "id": "w0YVchrVPm0R",
        "colab_type": "code",
        "colab": {}
      },
      "source": [
        "# Fill the blanks\n",
        "# Load the data from https://ml101-khanhnguyen.s3-ap-southeast-1.amazonaws.com/devc/Salaries.csv into `sal` variable\n",
        "sal = pd.read_csv('https://ml101-khanhnguyen.s3-ap-southeast-1.amazonaws.com/devc/Salaries.csv')\n"
      ],
      "execution_count": 0,
      "outputs": []
    },
    {
      "cell_type": "markdown",
      "metadata": {
        "id": "6nU6CxSjPm0U",
        "colab_type": "text"
      },
      "source": [
        "**Check out head(), sample(), info(), describe()**"
      ]
    },
    {
      "cell_type": "code",
      "metadata": {
        "id": "v_BKYV2qPm0V",
        "colab_type": "code",
        "colab": {
          "base_uri": "https://localhost:8080/",
          "height": 306
        },
        "outputId": "3be93278-36bd-45a0-d061-add42ce2768f"
      },
      "source": [
        "sal.head()"
      ],
      "execution_count": 45,
      "outputs": [
        {
          "output_type": "execute_result",
          "data": {
            "text/html": [
              "<div>\n",
              "<style scoped>\n",
              "    .dataframe tbody tr th:only-of-type {\n",
              "        vertical-align: middle;\n",
              "    }\n",
              "\n",
              "    .dataframe tbody tr th {\n",
              "        vertical-align: top;\n",
              "    }\n",
              "\n",
              "    .dataframe thead th {\n",
              "        text-align: right;\n",
              "    }\n",
              "</style>\n",
              "<table border=\"1\" class=\"dataframe\">\n",
              "  <thead>\n",
              "    <tr style=\"text-align: right;\">\n",
              "      <th></th>\n",
              "      <th>Id</th>\n",
              "      <th>EmployeeName</th>\n",
              "      <th>JobTitle</th>\n",
              "      <th>BasePay</th>\n",
              "      <th>OvertimePay</th>\n",
              "      <th>OtherPay</th>\n",
              "      <th>Benefits</th>\n",
              "      <th>TotalPay</th>\n",
              "      <th>TotalPayBenefits</th>\n",
              "      <th>Year</th>\n",
              "      <th>Notes</th>\n",
              "      <th>Agency</th>\n",
              "      <th>Status</th>\n",
              "    </tr>\n",
              "  </thead>\n",
              "  <tbody>\n",
              "    <tr>\n",
              "      <th>0</th>\n",
              "      <td>1</td>\n",
              "      <td>NATHANIEL FORD</td>\n",
              "      <td>GENERAL MANAGER-METROPOLITAN TRANSIT AUTHORITY</td>\n",
              "      <td>167411.18</td>\n",
              "      <td>0.00</td>\n",
              "      <td>400184.25</td>\n",
              "      <td>NaN</td>\n",
              "      <td>567595.43</td>\n",
              "      <td>567595.43</td>\n",
              "      <td>2011</td>\n",
              "      <td>NaN</td>\n",
              "      <td>San Francisco</td>\n",
              "      <td>NaN</td>\n",
              "    </tr>\n",
              "    <tr>\n",
              "      <th>1</th>\n",
              "      <td>2</td>\n",
              "      <td>GARY JIMENEZ</td>\n",
              "      <td>CAPTAIN III (POLICE DEPARTMENT)</td>\n",
              "      <td>155966.02</td>\n",
              "      <td>245131.88</td>\n",
              "      <td>137811.38</td>\n",
              "      <td>NaN</td>\n",
              "      <td>538909.28</td>\n",
              "      <td>538909.28</td>\n",
              "      <td>2011</td>\n",
              "      <td>NaN</td>\n",
              "      <td>San Francisco</td>\n",
              "      <td>NaN</td>\n",
              "    </tr>\n",
              "    <tr>\n",
              "      <th>2</th>\n",
              "      <td>3</td>\n",
              "      <td>ALBERT PARDINI</td>\n",
              "      <td>CAPTAIN III (POLICE DEPARTMENT)</td>\n",
              "      <td>212739.13</td>\n",
              "      <td>106088.18</td>\n",
              "      <td>16452.60</td>\n",
              "      <td>NaN</td>\n",
              "      <td>335279.91</td>\n",
              "      <td>335279.91</td>\n",
              "      <td>2011</td>\n",
              "      <td>NaN</td>\n",
              "      <td>San Francisco</td>\n",
              "      <td>NaN</td>\n",
              "    </tr>\n",
              "    <tr>\n",
              "      <th>3</th>\n",
              "      <td>4</td>\n",
              "      <td>CHRISTOPHER CHONG</td>\n",
              "      <td>WIRE ROPE CABLE MAINTENANCE MECHANIC</td>\n",
              "      <td>77916.00</td>\n",
              "      <td>56120.71</td>\n",
              "      <td>198306.90</td>\n",
              "      <td>NaN</td>\n",
              "      <td>332343.61</td>\n",
              "      <td>332343.61</td>\n",
              "      <td>2011</td>\n",
              "      <td>NaN</td>\n",
              "      <td>San Francisco</td>\n",
              "      <td>NaN</td>\n",
              "    </tr>\n",
              "    <tr>\n",
              "      <th>4</th>\n",
              "      <td>5</td>\n",
              "      <td>PATRICK GARDNER</td>\n",
              "      <td>DEPUTY CHIEF OF DEPARTMENT,(FIRE DEPARTMENT)</td>\n",
              "      <td>134401.60</td>\n",
              "      <td>9737.00</td>\n",
              "      <td>182234.59</td>\n",
              "      <td>NaN</td>\n",
              "      <td>326373.19</td>\n",
              "      <td>326373.19</td>\n",
              "      <td>2011</td>\n",
              "      <td>NaN</td>\n",
              "      <td>San Francisco</td>\n",
              "      <td>NaN</td>\n",
              "    </tr>\n",
              "  </tbody>\n",
              "</table>\n",
              "</div>"
            ],
            "text/plain": [
              "   Id       EmployeeName  ...         Agency  Status\n",
              "0   1     NATHANIEL FORD  ...  San Francisco     NaN\n",
              "1   2       GARY JIMENEZ  ...  San Francisco     NaN\n",
              "2   3     ALBERT PARDINI  ...  San Francisco     NaN\n",
              "3   4  CHRISTOPHER CHONG  ...  San Francisco     NaN\n",
              "4   5    PATRICK GARDNER  ...  San Francisco     NaN\n",
              "\n",
              "[5 rows x 13 columns]"
            ]
          },
          "metadata": {
            "tags": []
          },
          "execution_count": 45
        }
      ]
    },
    {
      "cell_type": "code",
      "metadata": {
        "id": "OjLrS9wlPm0a",
        "colab_type": "code",
        "colab": {
          "base_uri": "https://localhost:8080/",
          "height": 289
        },
        "outputId": "b4f365c4-3fed-4f7d-d811-db128defa2c1"
      },
      "source": [
        "# Fix the error\n",
        "sal.sample(5)"
      ],
      "execution_count": 46,
      "outputs": [
        {
          "output_type": "execute_result",
          "data": {
            "text/html": [
              "<div>\n",
              "<style scoped>\n",
              "    .dataframe tbody tr th:only-of-type {\n",
              "        vertical-align: middle;\n",
              "    }\n",
              "\n",
              "    .dataframe tbody tr th {\n",
              "        vertical-align: top;\n",
              "    }\n",
              "\n",
              "    .dataframe thead th {\n",
              "        text-align: right;\n",
              "    }\n",
              "</style>\n",
              "<table border=\"1\" class=\"dataframe\">\n",
              "  <thead>\n",
              "    <tr style=\"text-align: right;\">\n",
              "      <th></th>\n",
              "      <th>Id</th>\n",
              "      <th>EmployeeName</th>\n",
              "      <th>JobTitle</th>\n",
              "      <th>BasePay</th>\n",
              "      <th>OvertimePay</th>\n",
              "      <th>OtherPay</th>\n",
              "      <th>Benefits</th>\n",
              "      <th>TotalPay</th>\n",
              "      <th>TotalPayBenefits</th>\n",
              "      <th>Year</th>\n",
              "      <th>Notes</th>\n",
              "      <th>Agency</th>\n",
              "      <th>Status</th>\n",
              "    </tr>\n",
              "  </thead>\n",
              "  <tbody>\n",
              "    <tr>\n",
              "      <th>112644</th>\n",
              "      <td>112645</td>\n",
              "      <td>Larry C Jacobs</td>\n",
              "      <td>Firefighter</td>\n",
              "      <td>112703.76</td>\n",
              "      <td>43480.86</td>\n",
              "      <td>12269.77</td>\n",
              "      <td>41991.41</td>\n",
              "      <td>168454.39</td>\n",
              "      <td>210445.80</td>\n",
              "      <td>2014</td>\n",
              "      <td>NaN</td>\n",
              "      <td>San Francisco</td>\n",
              "      <td>NaN</td>\n",
              "    </tr>\n",
              "    <tr>\n",
              "      <th>126711</th>\n",
              "      <td>126712</td>\n",
              "      <td>Richard P Mcguire</td>\n",
              "      <td>Watershed Keeper</td>\n",
              "      <td>67599.01</td>\n",
              "      <td>2991.15</td>\n",
              "      <td>11558.40</td>\n",
              "      <td>28566.06</td>\n",
              "      <td>82148.56</td>\n",
              "      <td>110714.62</td>\n",
              "      <td>2014</td>\n",
              "      <td>NaN</td>\n",
              "      <td>San Francisco</td>\n",
              "      <td>NaN</td>\n",
              "    </tr>\n",
              "    <tr>\n",
              "      <th>88935</th>\n",
              "      <td>88936</td>\n",
              "      <td>Ferdinand O Gawat</td>\n",
              "      <td>Engineering Associate 1</td>\n",
              "      <td>81294.00</td>\n",
              "      <td>0.00</td>\n",
              "      <td>0.00</td>\n",
              "      <td>29839.50</td>\n",
              "      <td>81294.00</td>\n",
              "      <td>111133.50</td>\n",
              "      <td>2013</td>\n",
              "      <td>NaN</td>\n",
              "      <td>San Francisco</td>\n",
              "      <td>NaN</td>\n",
              "    </tr>\n",
              "    <tr>\n",
              "      <th>26406</th>\n",
              "      <td>26407</td>\n",
              "      <td>MARY MUAO</td>\n",
              "      <td>LEGAL PROCESS CLERK</td>\n",
              "      <td>41143.97</td>\n",
              "      <td>0.00</td>\n",
              "      <td>1108.50</td>\n",
              "      <td>NaN</td>\n",
              "      <td>42252.47</td>\n",
              "      <td>42252.47</td>\n",
              "      <td>2011</td>\n",
              "      <td>NaN</td>\n",
              "      <td>San Francisco</td>\n",
              "      <td>NaN</td>\n",
              "    </tr>\n",
              "    <tr>\n",
              "      <th>68373</th>\n",
              "      <td>68374</td>\n",
              "      <td>Susie Chiu</td>\n",
              "      <td>School Crossing Guard</td>\n",
              "      <td>11700.61</td>\n",
              "      <td>0.00</td>\n",
              "      <td>20.00</td>\n",
              "      <td>910.69</td>\n",
              "      <td>11720.61</td>\n",
              "      <td>12631.30</td>\n",
              "      <td>2012</td>\n",
              "      <td>NaN</td>\n",
              "      <td>San Francisco</td>\n",
              "      <td>NaN</td>\n",
              "    </tr>\n",
              "  </tbody>\n",
              "</table>\n",
              "</div>"
            ],
            "text/plain": [
              "            Id       EmployeeName  ...         Agency  Status\n",
              "112644  112645     Larry C Jacobs  ...  San Francisco     NaN\n",
              "126711  126712  Richard P Mcguire  ...  San Francisco     NaN\n",
              "88935    88936  Ferdinand O Gawat  ...  San Francisco     NaN\n",
              "26406    26407          MARY MUAO  ...  San Francisco     NaN\n",
              "68373    68374         Susie Chiu  ...  San Francisco     NaN\n",
              "\n",
              "[5 rows x 13 columns]"
            ]
          },
          "metadata": {
            "tags": []
          },
          "execution_count": 46
        }
      ]
    },
    {
      "cell_type": "code",
      "metadata": {
        "id": "AQ25O59kPm0d",
        "colab_type": "code",
        "colab": {
          "base_uri": "https://localhost:8080/",
          "height": 323
        },
        "outputId": "ce44890d-4d62-479e-c356-31f95f06d1e1"
      },
      "source": [
        "# Fix the error\n",
        "sal.info()"
      ],
      "execution_count": 47,
      "outputs": [
        {
          "output_type": "stream",
          "text": [
            "<class 'pandas.core.frame.DataFrame'>\n",
            "RangeIndex: 148654 entries, 0 to 148653\n",
            "Data columns (total 13 columns):\n",
            "Id                  148654 non-null int64\n",
            "EmployeeName        148654 non-null object\n",
            "JobTitle            148654 non-null object\n",
            "BasePay             148045 non-null float64\n",
            "OvertimePay         148650 non-null float64\n",
            "OtherPay            148650 non-null float64\n",
            "Benefits            112491 non-null float64\n",
            "TotalPay            148654 non-null float64\n",
            "TotalPayBenefits    148654 non-null float64\n",
            "Year                148654 non-null int64\n",
            "Notes               0 non-null float64\n",
            "Agency              148654 non-null object\n",
            "Status              0 non-null float64\n",
            "dtypes: float64(8), int64(2), object(3)\n",
            "memory usage: 14.7+ MB\n"
          ],
          "name": "stdout"
        }
      ]
    },
    {
      "cell_type": "code",
      "metadata": {
        "id": "oL4V7oDyPm0h",
        "colab_type": "code",
        "colab": {
          "base_uri": "https://localhost:8080/",
          "height": 297
        },
        "outputId": "33b17162-28a1-4069-8f77-ba9cd33976ab"
      },
      "source": [
        "# Fix the error\n",
        "sal.describe()"
      ],
      "execution_count": 48,
      "outputs": [
        {
          "output_type": "execute_result",
          "data": {
            "text/html": [
              "<div>\n",
              "<style scoped>\n",
              "    .dataframe tbody tr th:only-of-type {\n",
              "        vertical-align: middle;\n",
              "    }\n",
              "\n",
              "    .dataframe tbody tr th {\n",
              "        vertical-align: top;\n",
              "    }\n",
              "\n",
              "    .dataframe thead th {\n",
              "        text-align: right;\n",
              "    }\n",
              "</style>\n",
              "<table border=\"1\" class=\"dataframe\">\n",
              "  <thead>\n",
              "    <tr style=\"text-align: right;\">\n",
              "      <th></th>\n",
              "      <th>Id</th>\n",
              "      <th>BasePay</th>\n",
              "      <th>OvertimePay</th>\n",
              "      <th>OtherPay</th>\n",
              "      <th>Benefits</th>\n",
              "      <th>TotalPay</th>\n",
              "      <th>TotalPayBenefits</th>\n",
              "      <th>Year</th>\n",
              "      <th>Notes</th>\n",
              "      <th>Status</th>\n",
              "    </tr>\n",
              "  </thead>\n",
              "  <tbody>\n",
              "    <tr>\n",
              "      <th>count</th>\n",
              "      <td>148654.000000</td>\n",
              "      <td>148045.000000</td>\n",
              "      <td>148650.000000</td>\n",
              "      <td>148650.000000</td>\n",
              "      <td>112491.000000</td>\n",
              "      <td>148654.000000</td>\n",
              "      <td>148654.000000</td>\n",
              "      <td>148654.000000</td>\n",
              "      <td>0.0</td>\n",
              "      <td>0.0</td>\n",
              "    </tr>\n",
              "    <tr>\n",
              "      <th>mean</th>\n",
              "      <td>74327.500000</td>\n",
              "      <td>66325.448841</td>\n",
              "      <td>5066.059886</td>\n",
              "      <td>3648.767297</td>\n",
              "      <td>25007.893151</td>\n",
              "      <td>74768.321972</td>\n",
              "      <td>93692.554811</td>\n",
              "      <td>2012.522643</td>\n",
              "      <td>NaN</td>\n",
              "      <td>NaN</td>\n",
              "    </tr>\n",
              "    <tr>\n",
              "      <th>std</th>\n",
              "      <td>42912.857795</td>\n",
              "      <td>42764.635495</td>\n",
              "      <td>11454.380559</td>\n",
              "      <td>8056.601866</td>\n",
              "      <td>15402.215858</td>\n",
              "      <td>50517.005274</td>\n",
              "      <td>62793.533483</td>\n",
              "      <td>1.117538</td>\n",
              "      <td>NaN</td>\n",
              "      <td>NaN</td>\n",
              "    </tr>\n",
              "    <tr>\n",
              "      <th>min</th>\n",
              "      <td>1.000000</td>\n",
              "      <td>-166.010000</td>\n",
              "      <td>-0.010000</td>\n",
              "      <td>-7058.590000</td>\n",
              "      <td>-33.890000</td>\n",
              "      <td>-618.130000</td>\n",
              "      <td>-618.130000</td>\n",
              "      <td>2011.000000</td>\n",
              "      <td>NaN</td>\n",
              "      <td>NaN</td>\n",
              "    </tr>\n",
              "    <tr>\n",
              "      <th>25%</th>\n",
              "      <td>37164.250000</td>\n",
              "      <td>33588.200000</td>\n",
              "      <td>0.000000</td>\n",
              "      <td>0.000000</td>\n",
              "      <td>11535.395000</td>\n",
              "      <td>36168.995000</td>\n",
              "      <td>44065.650000</td>\n",
              "      <td>2012.000000</td>\n",
              "      <td>NaN</td>\n",
              "      <td>NaN</td>\n",
              "    </tr>\n",
              "    <tr>\n",
              "      <th>50%</th>\n",
              "      <td>74327.500000</td>\n",
              "      <td>65007.450000</td>\n",
              "      <td>0.000000</td>\n",
              "      <td>811.270000</td>\n",
              "      <td>28628.620000</td>\n",
              "      <td>71426.610000</td>\n",
              "      <td>92404.090000</td>\n",
              "      <td>2013.000000</td>\n",
              "      <td>NaN</td>\n",
              "      <td>NaN</td>\n",
              "    </tr>\n",
              "    <tr>\n",
              "      <th>75%</th>\n",
              "      <td>111490.750000</td>\n",
              "      <td>94691.050000</td>\n",
              "      <td>4658.175000</td>\n",
              "      <td>4236.065000</td>\n",
              "      <td>35566.855000</td>\n",
              "      <td>105839.135000</td>\n",
              "      <td>132876.450000</td>\n",
              "      <td>2014.000000</td>\n",
              "      <td>NaN</td>\n",
              "      <td>NaN</td>\n",
              "    </tr>\n",
              "    <tr>\n",
              "      <th>max</th>\n",
              "      <td>148654.000000</td>\n",
              "      <td>319275.010000</td>\n",
              "      <td>245131.880000</td>\n",
              "      <td>400184.250000</td>\n",
              "      <td>96570.660000</td>\n",
              "      <td>567595.430000</td>\n",
              "      <td>567595.430000</td>\n",
              "      <td>2014.000000</td>\n",
              "      <td>NaN</td>\n",
              "      <td>NaN</td>\n",
              "    </tr>\n",
              "  </tbody>\n",
              "</table>\n",
              "</div>"
            ],
            "text/plain": [
              "                  Id        BasePay  ...  Notes  Status\n",
              "count  148654.000000  148045.000000  ...    0.0     0.0\n",
              "mean    74327.500000   66325.448841  ...    NaN     NaN\n",
              "std     42912.857795   42764.635495  ...    NaN     NaN\n",
              "min         1.000000    -166.010000  ...    NaN     NaN\n",
              "25%     37164.250000   33588.200000  ...    NaN     NaN\n",
              "50%     74327.500000   65007.450000  ...    NaN     NaN\n",
              "75%    111490.750000   94691.050000  ...    NaN     NaN\n",
              "max    148654.000000  319275.010000  ...    NaN     NaN\n",
              "\n",
              "[8 rows x 10 columns]"
            ]
          },
          "metadata": {
            "tags": []
          },
          "execution_count": 48
        }
      ]
    },
    {
      "cell_type": "markdown",
      "metadata": {
        "id": "wY6yv3UsPm0k",
        "colab_type": "text"
      },
      "source": [
        "### Step 3 - Cleaning the data\n",
        "\n",
        "Few of useful data cleaning functions:\n",
        "\n",
        "* `s.astype('category')` # This will convert the datatype of the series to float *Please note that \"s\" here is a Pandas Series\n",
        "\n",
        "* `s.replace(1,'one')` # This will replace all values equal to 1 with 'one'\n",
        "\n",
        "* `s.replace([1,3],['one','three'])` # This will replace all 1 with 'one' and 3 with 'three'\n",
        "\n",
        "* `data.rename(columns=lambda x: x + 1)` # Mass renaming of columns\n",
        "\n",
        "* `data.rename(columns={'oldname': 'new name'})` # Selective renaming\n",
        "\n",
        "* `data.set_index('column_one')` #  This will change the index\n",
        "\n",
        "* `data.rename(index=lambda x: x + 1)` # Mass renaming of index\n",
        "\n",
        "* `data.dropna()` # Remove missing values\n",
        "\n",
        "* `data.fillna(x)` #  This will replaces all null values with x\n",
        "\n",
        "* `s.fillna(s.mean())` # This will replace all null values with the mean (mean can be replaced with almost any function from the below section) :\n",
        "\n",
        "* `data.corr()` # This will return the correlation between columns in a DataFrame\n",
        "\n",
        "* `data.count()` # This will return the number of non-null values in each DataFrame column\n",
        "\n",
        "* `data.max()` # This will return the highest value in each column\n",
        "\n",
        "* `data.min()` # This will return the lowest value in each column\n",
        "\n",
        "* `data.median()` # This will return the median of each column\n",
        "\n",
        "* `data.std()` # This will returns the standard deviation of each column\n"
      ]
    },
    {
      "cell_type": "markdown",
      "metadata": {
        "id": "e5NuNcPscq9x",
        "colab_type": "text"
      },
      "source": [
        "**Check duplication in columns in which the data must be unique**"
      ]
    },
    {
      "cell_type": "code",
      "metadata": {
        "id": "GPIDpsygPm0l",
        "colab_type": "code",
        "colab": {
          "base_uri": "https://localhost:8080/",
          "height": 34
        },
        "outputId": "ae782dce-5854-4cea-b3be-6a4aa8b88b04"
      },
      "source": [
        "# Id must be unique\n",
        "# So the number of unique values must be equal the number of rows\n",
        "# Fill the blanks\n",
        "sal['Id'].nunique() == sal['Id'].count()"
      ],
      "execution_count": 49,
      "outputs": [
        {
          "output_type": "execute_result",
          "data": {
            "text/plain": [
              "True"
            ]
          },
          "metadata": {
            "tags": []
          },
          "execution_count": 49
        }
      ]
    },
    {
      "cell_type": "markdown",
      "metadata": {
        "id": "1cmMLYR5fsGl",
        "colab_type": "text"
      },
      "source": [
        "**Change the type to category**"
      ]
    },
    {
      "cell_type": "code",
      "metadata": {
        "id": "LtaeNb4yPm0p",
        "colab_type": "code",
        "colab": {}
      },
      "source": [
        "sal['Id'] = sal['Id'].astype('category')\n",
        "\n",
        "# Change Year to be a categorical variable too\n",
        "# Your code here\n",
        "sal['Year'] = sal['Year'].astype('category')"
      ],
      "execution_count": 0,
      "outputs": []
    },
    {
      "cell_type": "code",
      "metadata": {
        "id": "BV3fhYF3nlJ2",
        "colab_type": "code",
        "colab": {
          "base_uri": "https://localhost:8080/",
          "height": 323
        },
        "outputId": "0f94abe6-650b-47db-b3ab-de553afc5427"
      },
      "source": [
        "sal.info()"
      ],
      "execution_count": 51,
      "outputs": [
        {
          "output_type": "stream",
          "text": [
            "<class 'pandas.core.frame.DataFrame'>\n",
            "RangeIndex: 148654 entries, 0 to 148653\n",
            "Data columns (total 13 columns):\n",
            "Id                  148654 non-null category\n",
            "EmployeeName        148654 non-null object\n",
            "JobTitle            148654 non-null object\n",
            "BasePay             148045 non-null float64\n",
            "OvertimePay         148650 non-null float64\n",
            "OtherPay            148650 non-null float64\n",
            "Benefits            112491 non-null float64\n",
            "TotalPay            148654 non-null float64\n",
            "TotalPayBenefits    148654 non-null float64\n",
            "Year                148654 non-null category\n",
            "Notes               0 non-null float64\n",
            "Agency              148654 non-null object\n",
            "Status              0 non-null float64\n",
            "dtypes: category(2), float64(8), object(3)\n",
            "memory usage: 19.3+ MB\n"
          ],
          "name": "stdout"
        }
      ]
    },
    {
      "cell_type": "markdown",
      "metadata": {
        "id": "VSVoX1K3Pm0s",
        "colab_type": "text"
      },
      "source": [
        "**Drop unnecessary columns**"
      ]
    },
    {
      "cell_type": "code",
      "metadata": {
        "id": "RHV8TMa1Pm0t",
        "colab_type": "code",
        "colab": {
          "base_uri": "https://localhost:8080/",
          "height": 34
        },
        "outputId": "1ee6af16-6585-4078-bab7-499f2d2d698e"
      },
      "source": [
        "# Look at the info() again, which columns you can drop immediately?\n",
        "# Fill the blanks\n",
        "#sal.drop(columns=['Notes', 'Status'], inplace=True)\n",
        "# error vif ddax xoas\n",
        "#opption2:\n",
        "sal.drop(columns=['Notes', 'Status']).shape"
      ],
      "execution_count": 52,
      "outputs": [
        {
          "output_type": "execute_result",
          "data": {
            "text/plain": [
              "(148654, 11)"
            ]
          },
          "metadata": {
            "tags": []
          },
          "execution_count": 52
        }
      ]
    },
    {
      "cell_type": "code",
      "metadata": {
        "id": "topSP0gtou8S",
        "colab_type": "code",
        "colab": {
          "base_uri": "https://localhost:8080/",
          "height": 323
        },
        "outputId": "4748b3b4-9e7f-43ff-c4f1-76bd39a937ea"
      },
      "source": [
        "sal.info()"
      ],
      "execution_count": 53,
      "outputs": [
        {
          "output_type": "stream",
          "text": [
            "<class 'pandas.core.frame.DataFrame'>\n",
            "RangeIndex: 148654 entries, 0 to 148653\n",
            "Data columns (total 13 columns):\n",
            "Id                  148654 non-null category\n",
            "EmployeeName        148654 non-null object\n",
            "JobTitle            148654 non-null object\n",
            "BasePay             148045 non-null float64\n",
            "OvertimePay         148650 non-null float64\n",
            "OtherPay            148650 non-null float64\n",
            "Benefits            112491 non-null float64\n",
            "TotalPay            148654 non-null float64\n",
            "TotalPayBenefits    148654 non-null float64\n",
            "Year                148654 non-null category\n",
            "Notes               0 non-null float64\n",
            "Agency              148654 non-null object\n",
            "Status              0 non-null float64\n",
            "dtypes: category(2), float64(8), object(3)\n",
            "memory usage: 19.3+ MB\n"
          ],
          "name": "stdout"
        }
      ]
    },
    {
      "cell_type": "code",
      "metadata": {
        "id": "3ED7b42ypDWZ",
        "colab_type": "code",
        "colab": {
          "base_uri": "https://localhost:8080/",
          "height": 34
        },
        "outputId": "2fbd837e-43c4-4d4f-daaf-288e413e5dfd"
      },
      "source": [
        "sal['Agency'].unique()"
      ],
      "execution_count": 54,
      "outputs": [
        {
          "output_type": "execute_result",
          "data": {
            "text/plain": [
              "array(['San Francisco'], dtype=object)"
            ]
          },
          "metadata": {
            "tags": []
          },
          "execution_count": 54
        }
      ]
    },
    {
      "cell_type": "code",
      "metadata": {
        "id": "xCvrYvQMPm0w",
        "colab_type": "code",
        "colab": {}
      },
      "source": [
        "# Are there any other columns that don't bring us much information?\n",
        "# Drop them coldbloodedly\n",
        "# Your code here\n",
        "sal.drop(['Agency'], axis = 1, inplace = True) #axis laf hang vs cot"
      ],
      "execution_count": 0,
      "outputs": []
    },
    {
      "cell_type": "code",
      "metadata": {
        "id": "-Aykt_CoPm02",
        "colab_type": "code",
        "colab": {
          "base_uri": "https://localhost:8080/",
          "height": 306
        },
        "outputId": "06194df6-10fc-4f45-fb6a-715cfae3ad34"
      },
      "source": [
        "# Check again with info()\n",
        "# Your code here\n",
        "sal.info()"
      ],
      "execution_count": 56,
      "outputs": [
        {
          "output_type": "stream",
          "text": [
            "<class 'pandas.core.frame.DataFrame'>\n",
            "RangeIndex: 148654 entries, 0 to 148653\n",
            "Data columns (total 12 columns):\n",
            "Id                  148654 non-null category\n",
            "EmployeeName        148654 non-null object\n",
            "JobTitle            148654 non-null object\n",
            "BasePay             148045 non-null float64\n",
            "OvertimePay         148650 non-null float64\n",
            "OtherPay            148650 non-null float64\n",
            "Benefits            112491 non-null float64\n",
            "TotalPay            148654 non-null float64\n",
            "TotalPayBenefits    148654 non-null float64\n",
            "Year                148654 non-null category\n",
            "Notes               0 non-null float64\n",
            "Status              0 non-null float64\n",
            "dtypes: category(2), float64(8), object(2)\n",
            "memory usage: 18.2+ MB\n"
          ],
          "name": "stdout"
        }
      ]
    },
    {
      "cell_type": "markdown",
      "metadata": {
        "id": "rcNsGWarPm06",
        "colab_type": "text"
      },
      "source": [
        "**Check for NaN values**"
      ]
    },
    {
      "cell_type": "code",
      "metadata": {
        "id": "TqLxHGy2Pm06",
        "colab_type": "code",
        "outputId": "3aa5d89f-a29a-4d7a-aaa3-59176324c135",
        "colab": {
          "base_uri": "https://localhost:8080/",
          "height": 238
        }
      },
      "source": [
        "# Fill the blank\n",
        "sal.isna().sum()"
      ],
      "execution_count": 57,
      "outputs": [
        {
          "output_type": "execute_result",
          "data": {
            "text/plain": [
              "Id                       0\n",
              "EmployeeName             0\n",
              "JobTitle                 0\n",
              "BasePay                609\n",
              "OvertimePay              4\n",
              "OtherPay                 4\n",
              "Benefits             36163\n",
              "TotalPay                 0\n",
              "TotalPayBenefits         0\n",
              "Year                     0\n",
              "Notes               148654\n",
              "Status              148654\n",
              "dtype: int64"
            ]
          },
          "metadata": {
            "tags": []
          },
          "execution_count": 57
        }
      ]
    },
    {
      "cell_type": "markdown",
      "metadata": {
        "id": "RdhPk_x1Pm0-",
        "colab_type": "text"
      },
      "source": [
        "**Examine few examples of NaN values**"
      ]
    },
    {
      "cell_type": "code",
      "metadata": {
        "id": "3kGYpbdOPm0-",
        "colab_type": "code",
        "outputId": "5cb92ef1-bcf2-4fb9-e2b8-a26211f3e006",
        "colab": {
          "base_uri": "https://localhost:8080/",
          "height": 173
        }
      },
      "source": [
        "# List all NaN values of OtherPay\n",
        "# Fill the blanks\n",
        "sal[sal['OtherPay'].isnull()]"
      ],
      "execution_count": 58,
      "outputs": [
        {
          "output_type": "execute_result",
          "data": {
            "text/html": [
              "<div>\n",
              "<style scoped>\n",
              "    .dataframe tbody tr th:only-of-type {\n",
              "        vertical-align: middle;\n",
              "    }\n",
              "\n",
              "    .dataframe tbody tr th {\n",
              "        vertical-align: top;\n",
              "    }\n",
              "\n",
              "    .dataframe thead th {\n",
              "        text-align: right;\n",
              "    }\n",
              "</style>\n",
              "<table border=\"1\" class=\"dataframe\">\n",
              "  <thead>\n",
              "    <tr style=\"text-align: right;\">\n",
              "      <th></th>\n",
              "      <th>Id</th>\n",
              "      <th>EmployeeName</th>\n",
              "      <th>JobTitle</th>\n",
              "      <th>BasePay</th>\n",
              "      <th>OvertimePay</th>\n",
              "      <th>OtherPay</th>\n",
              "      <th>Benefits</th>\n",
              "      <th>TotalPay</th>\n",
              "      <th>TotalPayBenefits</th>\n",
              "      <th>Year</th>\n",
              "      <th>Notes</th>\n",
              "      <th>Status</th>\n",
              "    </tr>\n",
              "  </thead>\n",
              "  <tbody>\n",
              "    <tr>\n",
              "      <th>148646</th>\n",
              "      <td>148647</td>\n",
              "      <td>Not provided</td>\n",
              "      <td>Not provided</td>\n",
              "      <td>NaN</td>\n",
              "      <td>NaN</td>\n",
              "      <td>NaN</td>\n",
              "      <td>NaN</td>\n",
              "      <td>0.0</td>\n",
              "      <td>0.0</td>\n",
              "      <td>2014</td>\n",
              "      <td>NaN</td>\n",
              "      <td>NaN</td>\n",
              "    </tr>\n",
              "    <tr>\n",
              "      <th>148650</th>\n",
              "      <td>148651</td>\n",
              "      <td>Not provided</td>\n",
              "      <td>Not provided</td>\n",
              "      <td>NaN</td>\n",
              "      <td>NaN</td>\n",
              "      <td>NaN</td>\n",
              "      <td>NaN</td>\n",
              "      <td>0.0</td>\n",
              "      <td>0.0</td>\n",
              "      <td>2014</td>\n",
              "      <td>NaN</td>\n",
              "      <td>NaN</td>\n",
              "    </tr>\n",
              "    <tr>\n",
              "      <th>148651</th>\n",
              "      <td>148652</td>\n",
              "      <td>Not provided</td>\n",
              "      <td>Not provided</td>\n",
              "      <td>NaN</td>\n",
              "      <td>NaN</td>\n",
              "      <td>NaN</td>\n",
              "      <td>NaN</td>\n",
              "      <td>0.0</td>\n",
              "      <td>0.0</td>\n",
              "      <td>2014</td>\n",
              "      <td>NaN</td>\n",
              "      <td>NaN</td>\n",
              "    </tr>\n",
              "    <tr>\n",
              "      <th>148652</th>\n",
              "      <td>148653</td>\n",
              "      <td>Not provided</td>\n",
              "      <td>Not provided</td>\n",
              "      <td>NaN</td>\n",
              "      <td>NaN</td>\n",
              "      <td>NaN</td>\n",
              "      <td>NaN</td>\n",
              "      <td>0.0</td>\n",
              "      <td>0.0</td>\n",
              "      <td>2014</td>\n",
              "      <td>NaN</td>\n",
              "      <td>NaN</td>\n",
              "    </tr>\n",
              "  </tbody>\n",
              "</table>\n",
              "</div>"
            ],
            "text/plain": [
              "            Id  EmployeeName      JobTitle  ...  Year  Notes  Status\n",
              "148646  148647  Not provided  Not provided  ...  2014    NaN     NaN\n",
              "148650  148651  Not provided  Not provided  ...  2014    NaN     NaN\n",
              "148651  148652  Not provided  Not provided  ...  2014    NaN     NaN\n",
              "148652  148653  Not provided  Not provided  ...  2014    NaN     NaN\n",
              "\n",
              "[4 rows x 12 columns]"
            ]
          },
          "metadata": {
            "tags": []
          },
          "execution_count": 58
        }
      ]
    },
    {
      "cell_type": "markdown",
      "metadata": {
        "id": "pNv3autOjiFj",
        "colab_type": "text"
      },
      "source": [
        "**Drop missing values of OtherPay and OvertimePay**"
      ]
    },
    {
      "cell_type": "code",
      "metadata": {
        "id": "ZDgbdnlhPm1C",
        "colab_type": "code",
        "colab": {}
      },
      "source": [
        "# Option 1\n",
        "#sal.drop(labels=[148646, 148650, 148651, 148652], axis=0)\n",
        "\n",
        "# Something cooler\n",
        "# Solution: Select data that OtherPay is not null and assign it to the dataframe 'sal'\n",
        "# Your code here\n",
        "# Option 2\n",
        "#sal = sal[sal['OtherPay'].isna()== False] \n",
        "# Option 3\n",
        "#temp = sal[sal['OtherPay'].isnul()].index.values\n",
        "#sal.drop(labels = temp, axis = 0, inplace = True)"
      ],
      "execution_count": 0,
      "outputs": []
    },
    {
      "cell_type": "code",
      "metadata": {
        "id": "pAS8SL6esLr_",
        "colab_type": "code",
        "colab": {
          "base_uri": "https://localhost:8080/",
          "height": 238
        },
        "outputId": "f4cf2404-5ee7-4039-d7f3-81e903dd70f7"
      },
      "source": [
        "sal.isna().sum()"
      ],
      "execution_count": 60,
      "outputs": [
        {
          "output_type": "execute_result",
          "data": {
            "text/plain": [
              "Id                       0\n",
              "EmployeeName             0\n",
              "JobTitle                 0\n",
              "BasePay                609\n",
              "OvertimePay              4\n",
              "OtherPay                 4\n",
              "Benefits             36163\n",
              "TotalPay                 0\n",
              "TotalPayBenefits         0\n",
              "Year                     0\n",
              "Notes               148654\n",
              "Status              148654\n",
              "dtype: int64"
            ]
          },
          "metadata": {
            "tags": []
          },
          "execution_count": 60
        }
      ]
    },
    {
      "cell_type": "markdown",
      "metadata": {
        "id": "E8C8-rJ6kb5A",
        "colab_type": "text"
      },
      "source": [
        "**Analize missing values of BasePay and Benefits**"
      ]
    },
    {
      "cell_type": "code",
      "metadata": {
        "id": "auarSm-bPm1G",
        "colab_type": "code",
        "outputId": "a7f6075a-55bf-415b-ee23-d56c6fa4eed5",
        "colab": {
          "base_uri": "https://localhost:8080/",
          "height": 204
        }
      },
      "source": [
        "# Select 5 sample of data that BasePay is null\n",
        "# Your code here\n",
        "sal[sal['BasePay'].isnull()].sample(5)"
      ],
      "execution_count": 61,
      "outputs": [
        {
          "output_type": "execute_result",
          "data": {
            "text/html": [
              "<div>\n",
              "<style scoped>\n",
              "    .dataframe tbody tr th:only-of-type {\n",
              "        vertical-align: middle;\n",
              "    }\n",
              "\n",
              "    .dataframe tbody tr th {\n",
              "        vertical-align: top;\n",
              "    }\n",
              "\n",
              "    .dataframe thead th {\n",
              "        text-align: right;\n",
              "    }\n",
              "</style>\n",
              "<table border=\"1\" class=\"dataframe\">\n",
              "  <thead>\n",
              "    <tr style=\"text-align: right;\">\n",
              "      <th></th>\n",
              "      <th>Id</th>\n",
              "      <th>EmployeeName</th>\n",
              "      <th>JobTitle</th>\n",
              "      <th>BasePay</th>\n",
              "      <th>OvertimePay</th>\n",
              "      <th>OtherPay</th>\n",
              "      <th>Benefits</th>\n",
              "      <th>TotalPay</th>\n",
              "      <th>TotalPayBenefits</th>\n",
              "      <th>Year</th>\n",
              "      <th>Notes</th>\n",
              "      <th>Status</th>\n",
              "    </tr>\n",
              "  </thead>\n",
              "  <tbody>\n",
              "    <tr>\n",
              "      <th>106831</th>\n",
              "      <td>106832</td>\n",
              "      <td>Tamara  Mayfield</td>\n",
              "      <td>Assistant Recreation Director</td>\n",
              "      <td>NaN</td>\n",
              "      <td>0.0</td>\n",
              "      <td>0.0</td>\n",
              "      <td>7959.18</td>\n",
              "      <td>0.0</td>\n",
              "      <td>7959.18</td>\n",
              "      <td>2013</td>\n",
              "      <td>NaN</td>\n",
              "      <td>NaN</td>\n",
              "    </tr>\n",
              "    <tr>\n",
              "      <th>106763</th>\n",
              "      <td>106764</td>\n",
              "      <td>Stephen D Smith</td>\n",
              "      <td>Deputy Sheriff</td>\n",
              "      <td>NaN</td>\n",
              "      <td>0.0</td>\n",
              "      <td>0.0</td>\n",
              "      <td>7959.18</td>\n",
              "      <td>0.0</td>\n",
              "      <td>7959.18</td>\n",
              "      <td>2013</td>\n",
              "      <td>NaN</td>\n",
              "      <td>NaN</td>\n",
              "    </tr>\n",
              "    <tr>\n",
              "      <th>106870</th>\n",
              "      <td>106871</td>\n",
              "      <td>Richard  Ventura</td>\n",
              "      <td>Commissioner 16.700c, No Pay</td>\n",
              "      <td>NaN</td>\n",
              "      <td>0.0</td>\n",
              "      <td>0.0</td>\n",
              "      <td>7959.18</td>\n",
              "      <td>0.0</td>\n",
              "      <td>7959.18</td>\n",
              "      <td>2013</td>\n",
              "      <td>NaN</td>\n",
              "      <td>NaN</td>\n",
              "    </tr>\n",
              "    <tr>\n",
              "      <th>106813</th>\n",
              "      <td>106814</td>\n",
              "      <td>Lynn S Wood</td>\n",
              "      <td>Recreation Director</td>\n",
              "      <td>NaN</td>\n",
              "      <td>0.0</td>\n",
              "      <td>0.0</td>\n",
              "      <td>7959.18</td>\n",
              "      <td>0.0</td>\n",
              "      <td>7959.18</td>\n",
              "      <td>2013</td>\n",
              "      <td>NaN</td>\n",
              "      <td>NaN</td>\n",
              "    </tr>\n",
              "    <tr>\n",
              "      <th>106748</th>\n",
              "      <td>106749</td>\n",
              "      <td>Rita I Sinasohn-Pharr</td>\n",
              "      <td>Clerk Typist</td>\n",
              "      <td>NaN</td>\n",
              "      <td>0.0</td>\n",
              "      <td>0.0</td>\n",
              "      <td>7959.18</td>\n",
              "      <td>0.0</td>\n",
              "      <td>7959.18</td>\n",
              "      <td>2013</td>\n",
              "      <td>NaN</td>\n",
              "      <td>NaN</td>\n",
              "    </tr>\n",
              "  </tbody>\n",
              "</table>\n",
              "</div>"
            ],
            "text/plain": [
              "            Id           EmployeeName  ... Notes  Status\n",
              "106831  106832       Tamara  Mayfield  ...   NaN     NaN\n",
              "106763  106764        Stephen D Smith  ...   NaN     NaN\n",
              "106870  106871       Richard  Ventura  ...   NaN     NaN\n",
              "106813  106814            Lynn S Wood  ...   NaN     NaN\n",
              "106748  106749  Rita I Sinasohn-Pharr  ...   NaN     NaN\n",
              "\n",
              "[5 rows x 12 columns]"
            ]
          },
          "metadata": {
            "tags": []
          },
          "execution_count": 61
        }
      ]
    },
    {
      "cell_type": "markdown",
      "metadata": {
        "id": "LI8UuvPePm1J",
        "colab_type": "text"
      },
      "source": [
        "**For BasePay and Benefits, it is clear that NaN values are zeroes (from TotalPay and TotalPayBenefits).**\n",
        "\n",
        "**So, simply fill NaN values with 0**"
      ]
    },
    {
      "cell_type": "code",
      "metadata": {
        "id": "weJT0fK1Pm1K",
        "colab_type": "code",
        "colab": {}
      },
      "source": [
        "# Fill the blanks\n",
        "sal['Benefits'].fillna(value=0, inplace=True)"
      ],
      "execution_count": 0,
      "outputs": []
    },
    {
      "cell_type": "code",
      "metadata": {
        "id": "rqLP52qis0Rw",
        "colab_type": "code",
        "colab": {
          "base_uri": "https://localhost:8080/",
          "height": 238
        },
        "outputId": "bb2050d8-409c-404e-8505-01d9e9d711ba"
      },
      "source": [
        "sal.isna().sum()"
      ],
      "execution_count": 63,
      "outputs": [
        {
          "output_type": "execute_result",
          "data": {
            "text/plain": [
              "Id                       0\n",
              "EmployeeName             0\n",
              "JobTitle                 0\n",
              "BasePay                609\n",
              "OvertimePay              4\n",
              "OtherPay                 4\n",
              "Benefits                 0\n",
              "TotalPay                 0\n",
              "TotalPayBenefits         0\n",
              "Year                     0\n",
              "Notes               148654\n",
              "Status              148654\n",
              "dtype: int64"
            ]
          },
          "metadata": {
            "tags": []
          },
          "execution_count": 63
        }
      ]
    },
    {
      "cell_type": "code",
      "metadata": {
        "id": "CtY8mxaJPm1N",
        "colab_type": "code",
        "colab": {}
      },
      "source": [
        "# Fill the blanks\n",
        "sal['BasePay'].fillna(value = 0, inplace = True)"
      ],
      "execution_count": 0,
      "outputs": []
    },
    {
      "cell_type": "code",
      "metadata": {
        "id": "6r011Nm-Pm1Q",
        "colab_type": "code",
        "outputId": "fd8012df-0653-4a74-8a96-7e5a3b948466",
        "colab": {
          "base_uri": "https://localhost:8080/",
          "height": 238
        }
      },
      "source": [
        "# Let check for NaN values again\n",
        "# Your code here\n",
        "sal.isna().sum()"
      ],
      "execution_count": 65,
      "outputs": [
        {
          "output_type": "execute_result",
          "data": {
            "text/plain": [
              "Id                       0\n",
              "EmployeeName             0\n",
              "JobTitle                 0\n",
              "BasePay                  0\n",
              "OvertimePay              4\n",
              "OtherPay                 4\n",
              "Benefits                 0\n",
              "TotalPay                 0\n",
              "TotalPayBenefits         0\n",
              "Year                     0\n",
              "Notes               148654\n",
              "Status              148654\n",
              "dtype: int64"
            ]
          },
          "metadata": {
            "tags": []
          },
          "execution_count": 65
        }
      ]
    },
    {
      "cell_type": "code",
      "metadata": {
        "id": "bnZ4__iftk4C",
        "colab_type": "code",
        "colab": {
          "base_uri": "https://localhost:8080/",
          "height": 297
        },
        "outputId": "03e2c8b7-80a6-4192-f7f6-d8bab3e685f7"
      },
      "source": [
        "sal.describe()"
      ],
      "execution_count": 66,
      "outputs": [
        {
          "output_type": "execute_result",
          "data": {
            "text/html": [
              "<div>\n",
              "<style scoped>\n",
              "    .dataframe tbody tr th:only-of-type {\n",
              "        vertical-align: middle;\n",
              "    }\n",
              "\n",
              "    .dataframe tbody tr th {\n",
              "        vertical-align: top;\n",
              "    }\n",
              "\n",
              "    .dataframe thead th {\n",
              "        text-align: right;\n",
              "    }\n",
              "</style>\n",
              "<table border=\"1\" class=\"dataframe\">\n",
              "  <thead>\n",
              "    <tr style=\"text-align: right;\">\n",
              "      <th></th>\n",
              "      <th>BasePay</th>\n",
              "      <th>OvertimePay</th>\n",
              "      <th>OtherPay</th>\n",
              "      <th>Benefits</th>\n",
              "      <th>TotalPay</th>\n",
              "      <th>TotalPayBenefits</th>\n",
              "      <th>Notes</th>\n",
              "      <th>Status</th>\n",
              "    </tr>\n",
              "  </thead>\n",
              "  <tbody>\n",
              "    <tr>\n",
              "      <th>count</th>\n",
              "      <td>148654.000000</td>\n",
              "      <td>148650.000000</td>\n",
              "      <td>148650.000000</td>\n",
              "      <td>148654.000000</td>\n",
              "      <td>148654.000000</td>\n",
              "      <td>148654.000000</td>\n",
              "      <td>0.0</td>\n",
              "      <td>0.0</td>\n",
              "    </tr>\n",
              "    <tr>\n",
              "      <th>mean</th>\n",
              "      <td>66053.729288</td>\n",
              "      <td>5066.059886</td>\n",
              "      <td>3648.767297</td>\n",
              "      <td>18924.232839</td>\n",
              "      <td>74768.321972</td>\n",
              "      <td>93692.554811</td>\n",
              "      <td>NaN</td>\n",
              "      <td>NaN</td>\n",
              "    </tr>\n",
              "    <tr>\n",
              "      <th>std</th>\n",
              "      <td>42886.711158</td>\n",
              "      <td>11454.380559</td>\n",
              "      <td>8056.601866</td>\n",
              "      <td>17165.279495</td>\n",
              "      <td>50517.005274</td>\n",
              "      <td>62793.533483</td>\n",
              "      <td>NaN</td>\n",
              "      <td>NaN</td>\n",
              "    </tr>\n",
              "    <tr>\n",
              "      <th>min</th>\n",
              "      <td>-166.010000</td>\n",
              "      <td>-0.010000</td>\n",
              "      <td>-7058.590000</td>\n",
              "      <td>-33.890000</td>\n",
              "      <td>-618.130000</td>\n",
              "      <td>-618.130000</td>\n",
              "      <td>NaN</td>\n",
              "      <td>NaN</td>\n",
              "    </tr>\n",
              "    <tr>\n",
              "      <th>25%</th>\n",
              "      <td>32792.545000</td>\n",
              "      <td>0.000000</td>\n",
              "      <td>0.000000</td>\n",
              "      <td>0.000000</td>\n",
              "      <td>36168.995000</td>\n",
              "      <td>44065.650000</td>\n",
              "      <td>NaN</td>\n",
              "      <td>NaN</td>\n",
              "    </tr>\n",
              "    <tr>\n",
              "      <th>50%</th>\n",
              "      <td>64861.600000</td>\n",
              "      <td>0.000000</td>\n",
              "      <td>811.270000</td>\n",
              "      <td>23214.020000</td>\n",
              "      <td>71426.610000</td>\n",
              "      <td>92404.090000</td>\n",
              "      <td>NaN</td>\n",
              "      <td>NaN</td>\n",
              "    </tr>\n",
              "    <tr>\n",
              "      <th>75%</th>\n",
              "      <td>94605.740000</td>\n",
              "      <td>4658.175000</td>\n",
              "      <td>4236.065000</td>\n",
              "      <td>33468.980000</td>\n",
              "      <td>105839.135000</td>\n",
              "      <td>132876.450000</td>\n",
              "      <td>NaN</td>\n",
              "      <td>NaN</td>\n",
              "    </tr>\n",
              "    <tr>\n",
              "      <th>max</th>\n",
              "      <td>319275.010000</td>\n",
              "      <td>245131.880000</td>\n",
              "      <td>400184.250000</td>\n",
              "      <td>96570.660000</td>\n",
              "      <td>567595.430000</td>\n",
              "      <td>567595.430000</td>\n",
              "      <td>NaN</td>\n",
              "      <td>NaN</td>\n",
              "    </tr>\n",
              "  </tbody>\n",
              "</table>\n",
              "</div>"
            ],
            "text/plain": [
              "             BasePay    OvertimePay  ...  Notes  Status\n",
              "count  148654.000000  148650.000000  ...    0.0     0.0\n",
              "mean    66053.729288    5066.059886  ...    NaN     NaN\n",
              "std     42886.711158   11454.380559  ...    NaN     NaN\n",
              "min      -166.010000      -0.010000  ...    NaN     NaN\n",
              "25%     32792.545000       0.000000  ...    NaN     NaN\n",
              "50%     64861.600000       0.000000  ...    NaN     NaN\n",
              "75%     94605.740000    4658.175000  ...    NaN     NaN\n",
              "max    319275.010000  245131.880000  ...    NaN     NaN\n",
              "\n",
              "[8 rows x 8 columns]"
            ]
          },
          "metadata": {
            "tags": []
          },
          "execution_count": 66
        }
      ]
    },
    {
      "cell_type": "markdown",
      "metadata": {
        "id": "4OJQFuzhPm1T",
        "colab_type": "text"
      },
      "source": [
        "**Min values of some payments are negative. Let's check it out**"
      ]
    },
    {
      "cell_type": "code",
      "metadata": {
        "id": "DS8XEj1UPm1U",
        "colab_type": "code",
        "outputId": "30dec2f3-8d6f-4199-9542-51db1bab79dd",
        "colab": {
          "base_uri": "https://localhost:8080/",
          "height": 173
        }
      },
      "source": [
        "# Select data that has negative TotalPay or TotalPayBenefits\n",
        "sal[(sal['TotalPay']<0) | (sal['TotalPayBenefits']< 0)]"
      ],
      "execution_count": 67,
      "outputs": [
        {
          "output_type": "execute_result",
          "data": {
            "text/html": [
              "<div>\n",
              "<style scoped>\n",
              "    .dataframe tbody tr th:only-of-type {\n",
              "        vertical-align: middle;\n",
              "    }\n",
              "\n",
              "    .dataframe tbody tr th {\n",
              "        vertical-align: top;\n",
              "    }\n",
              "\n",
              "    .dataframe thead th {\n",
              "        text-align: right;\n",
              "    }\n",
              "</style>\n",
              "<table border=\"1\" class=\"dataframe\">\n",
              "  <thead>\n",
              "    <tr style=\"text-align: right;\">\n",
              "      <th></th>\n",
              "      <th>Id</th>\n",
              "      <th>EmployeeName</th>\n",
              "      <th>JobTitle</th>\n",
              "      <th>BasePay</th>\n",
              "      <th>OvertimePay</th>\n",
              "      <th>OtherPay</th>\n",
              "      <th>Benefits</th>\n",
              "      <th>TotalPay</th>\n",
              "      <th>TotalPayBenefits</th>\n",
              "      <th>Year</th>\n",
              "      <th>Notes</th>\n",
              "      <th>Status</th>\n",
              "    </tr>\n",
              "  </thead>\n",
              "  <tbody>\n",
              "    <tr>\n",
              "      <th>110528</th>\n",
              "      <td>110529</td>\n",
              "      <td>Timothy E Gibson</td>\n",
              "      <td>Police Officer 3</td>\n",
              "      <td>0.0</td>\n",
              "      <td>0.0</td>\n",
              "      <td>0.00</td>\n",
              "      <td>-2.73</td>\n",
              "      <td>0.00</td>\n",
              "      <td>-2.73</td>\n",
              "      <td>2013</td>\n",
              "      <td>NaN</td>\n",
              "      <td>NaN</td>\n",
              "    </tr>\n",
              "    <tr>\n",
              "      <th>110529</th>\n",
              "      <td>110530</td>\n",
              "      <td>Mark E Laherty</td>\n",
              "      <td>Police Officer 3</td>\n",
              "      <td>0.0</td>\n",
              "      <td>0.0</td>\n",
              "      <td>0.00</td>\n",
              "      <td>-8.20</td>\n",
              "      <td>0.00</td>\n",
              "      <td>-8.20</td>\n",
              "      <td>2013</td>\n",
              "      <td>NaN</td>\n",
              "      <td>NaN</td>\n",
              "    </tr>\n",
              "    <tr>\n",
              "      <th>110530</th>\n",
              "      <td>110531</td>\n",
              "      <td>David P Kucia</td>\n",
              "      <td>Police Officer 3</td>\n",
              "      <td>0.0</td>\n",
              "      <td>0.0</td>\n",
              "      <td>0.00</td>\n",
              "      <td>-33.89</td>\n",
              "      <td>0.00</td>\n",
              "      <td>-33.89</td>\n",
              "      <td>2013</td>\n",
              "      <td>NaN</td>\n",
              "      <td>NaN</td>\n",
              "    </tr>\n",
              "    <tr>\n",
              "      <th>148653</th>\n",
              "      <td>148654</td>\n",
              "      <td>Joe Lopez</td>\n",
              "      <td>Counselor, Log Cabin Ranch</td>\n",
              "      <td>0.0</td>\n",
              "      <td>0.0</td>\n",
              "      <td>-618.13</td>\n",
              "      <td>0.00</td>\n",
              "      <td>-618.13</td>\n",
              "      <td>-618.13</td>\n",
              "      <td>2014</td>\n",
              "      <td>NaN</td>\n",
              "      <td>NaN</td>\n",
              "    </tr>\n",
              "  </tbody>\n",
              "</table>\n",
              "</div>"
            ],
            "text/plain": [
              "            Id      EmployeeName  ... Notes  Status\n",
              "110528  110529  Timothy E Gibson  ...   NaN     NaN\n",
              "110529  110530    Mark E Laherty  ...   NaN     NaN\n",
              "110530  110531     David P Kucia  ...   NaN     NaN\n",
              "148653  148654         Joe Lopez  ...   NaN     NaN\n",
              "\n",
              "[4 rows x 12 columns]"
            ]
          },
          "metadata": {
            "tags": []
          },
          "execution_count": 67
        }
      ]
    },
    {
      "cell_type": "markdown",
      "metadata": {
        "id": "9w7-ugL0mQPC",
        "colab_type": "text"
      },
      "source": [
        "**There are only 4 of them, we can safely drop these data**"
      ]
    },
    {
      "cell_type": "code",
      "metadata": {
        "id": "2SfJWB9qPm1X",
        "colab_type": "code",
        "colab": {}
      },
      "source": [
        "# Your code here\n",
        "sal = sal[(sal['TotalPayBenefits'] >=0) & (sal['TotalPay'] >=0)]\n"
      ],
      "execution_count": 0,
      "outputs": []
    },
    {
      "cell_type": "code",
      "metadata": {
        "id": "8ZDdBTqwuqjF",
        "colab_type": "code",
        "colab": {}
      },
      "source": [
        "sal.drop(sal[sal['TotalPayBenefits']<0].index.values, axis = 0, inplace =True)"
      ],
      "execution_count": 0,
      "outputs": []
    },
    {
      "cell_type": "markdown",
      "metadata": {
        "id": "mPny_KZsPm1Z",
        "colab_type": "text"
      },
      "source": [
        "**Identify any errors or miscoding of variables**"
      ]
    },
    {
      "cell_type": "code",
      "metadata": {
        "id": "9K85MLVzPm1Z",
        "colab_type": "code",
        "outputId": "202d1077-3333-454f-d6b4-61a3a0c5dedd",
        "colab": {
          "base_uri": "https://localhost:8080/",
          "height": 51
        }
      },
      "source": [
        "# Check the unique values of Year\n",
        "# Your code here\n",
        "sal['Year'].unique()"
      ],
      "execution_count": 70,
      "outputs": [
        {
          "output_type": "execute_result",
          "data": {
            "text/plain": [
              "[2011, 2012, 2013, 2014]\n",
              "Categories (4, int64): [2011, 2012, 2013, 2014]"
            ]
          },
          "metadata": {
            "tags": []
          },
          "execution_count": 70
        }
      ]
    },
    {
      "cell_type": "code",
      "metadata": {
        "id": "03b--rOfviXQ",
        "colab_type": "code",
        "colab": {
          "base_uri": "https://localhost:8080/",
          "height": 163
        },
        "outputId": "a3a4df5a-7839-4f70-e0e2-7f382f731e59"
      },
      "source": [
        "sal['EmployeeName'].unique().head()"
      ],
      "execution_count": 71,
      "outputs": [
        {
          "output_type": "error",
          "ename": "AttributeError",
          "evalue": "ignored",
          "traceback": [
            "\u001b[0;31m---------------------------------------------------------------------------\u001b[0m",
            "\u001b[0;31mAttributeError\u001b[0m                            Traceback (most recent call last)",
            "\u001b[0;32m<ipython-input-71-5e5492d111a5>\u001b[0m in \u001b[0;36m<module>\u001b[0;34m()\u001b[0m\n\u001b[0;32m----> 1\u001b[0;31m \u001b[0msal\u001b[0m\u001b[0;34m[\u001b[0m\u001b[0;34m'EmployeeName'\u001b[0m\u001b[0;34m]\u001b[0m\u001b[0;34m.\u001b[0m\u001b[0munique\u001b[0m\u001b[0;34m(\u001b[0m\u001b[0;34m)\u001b[0m\u001b[0;34m.\u001b[0m\u001b[0mhead\u001b[0m\u001b[0;34m(\u001b[0m\u001b[0;34m)\u001b[0m\u001b[0;34m\u001b[0m\u001b[0;34m\u001b[0m\u001b[0m\n\u001b[0m",
            "\u001b[0;31mAttributeError\u001b[0m: 'numpy.ndarray' object has no attribute 'head'"
          ]
        }
      ]
    },
    {
      "cell_type": "markdown",
      "metadata": {
        "id": "c56z5tkKPm1c",
        "colab_type": "text"
      },
      "source": [
        "Check duplication"
      ]
    },
    {
      "cell_type": "code",
      "metadata": {
        "id": "_JW2GOxIPm1c",
        "colab_type": "code",
        "colab": {}
      },
      "source": [
        "# Apply strip() on EmployeeName and Jobtitle \n",
        "# to remove all the leading and trailing spaces\n",
        "# Fill the blanks\n",
        "sal['EmployeeName'] = sal['EmployeeName'].str.strip()\n",
        "sal['JobTitle'] = sal['JobTitle'].str.strip()"
      ],
      "execution_count": 0,
      "outputs": []
    },
    {
      "cell_type": "code",
      "metadata": {
        "id": "ZCl0vCkbPm1e",
        "colab_type": "code",
        "outputId": "c946eb73-a1ed-485e-c854-142a374d3f19",
        "colab": {
          "base_uri": "https://localhost:8080/",
          "height": 34
        }
      },
      "source": [
        "# Check the number of unique value of EmployeeName\n",
        "sal['EmployeeName'].nunique()"
      ],
      "execution_count": 73,
      "outputs": [
        {
          "output_type": "execute_result",
          "data": {
            "text/plain": [
              "110807"
            ]
          },
          "metadata": {
            "tags": []
          },
          "execution_count": 73
        }
      ]
    },
    {
      "cell_type": "code",
      "metadata": {
        "id": "AjoEmOqOPm1i",
        "colab_type": "code",
        "outputId": "8c7ab2fa-b654-4e43-dcb4-3cdd610c0ca7",
        "colab": {
          "base_uri": "https://localhost:8080/",
          "height": 34
        }
      },
      "source": [
        "# Check the number of unique value of EmployeeName in lower case\n",
        "# Fill the blanks\n",
        "sal['EmployeeName'].str.lower().nunique()"
      ],
      "execution_count": 74,
      "outputs": [
        {
          "output_type": "execute_result",
          "data": {
            "text/plain": [
              "80455"
            ]
          },
          "metadata": {
            "tags": []
          },
          "execution_count": 74
        }
      ]
    },
    {
      "cell_type": "code",
      "metadata": {
        "id": "xkHpzbNpPm1l",
        "colab_type": "code",
        "outputId": "38a7b94e-53ec-4cc4-f190-8ff512dfee34",
        "colab": {
          "base_uri": "https://localhost:8080/",
          "height": 51
        }
      },
      "source": [
        "# Do the same with JobTitle\n",
        "# Fill the blank\n",
        "print(sal['JobTitle'].nunique())\n",
        "print(sal['JobTitle'].str.lower().nunique())"
      ],
      "execution_count": 77,
      "outputs": [
        {
          "output_type": "stream",
          "text": [
            "2159\n",
            "1637\n"
          ],
          "name": "stdout"
        }
      ]
    },
    {
      "cell_type": "code",
      "metadata": {
        "id": "jpt9F8hoPm1o",
        "colab_type": "code",
        "colab": {}
      },
      "source": [
        ""
      ],
      "execution_count": 0,
      "outputs": []
    },
    {
      "cell_type": "code",
      "metadata": {
        "id": "-JLeksePPm1r",
        "colab_type": "code",
        "outputId": "9736718b-a480-446f-a409-c1172902db55",
        "colab": {
          "base_uri": "https://localhost:8080/",
          "height": 748
        }
      },
      "source": [
        "# Select the most common name\n",
        "# Something wrong, fix the error\n",
        "names = sal['EmployeeName'].str.lower().value_counts()\n",
        "sample = names[names > 1].head(1).index\n",
        "sal[sal['EmployeeName'].str.lower().isin(sample)]"
      ],
      "execution_count": 80,
      "outputs": [
        {
          "output_type": "execute_result",
          "data": {
            "text/html": [
              "<div>\n",
              "<style scoped>\n",
              "    .dataframe tbody tr th:only-of-type {\n",
              "        vertical-align: middle;\n",
              "    }\n",
              "\n",
              "    .dataframe tbody tr th {\n",
              "        vertical-align: top;\n",
              "    }\n",
              "\n",
              "    .dataframe thead th {\n",
              "        text-align: right;\n",
              "    }\n",
              "</style>\n",
              "<table border=\"1\" class=\"dataframe\">\n",
              "  <thead>\n",
              "    <tr style=\"text-align: right;\">\n",
              "      <th></th>\n",
              "      <th>Id</th>\n",
              "      <th>EmployeeName</th>\n",
              "      <th>JobTitle</th>\n",
              "      <th>BasePay</th>\n",
              "      <th>OvertimePay</th>\n",
              "      <th>OtherPay</th>\n",
              "      <th>Benefits</th>\n",
              "      <th>TotalPay</th>\n",
              "      <th>TotalPayBenefits</th>\n",
              "      <th>Year</th>\n",
              "      <th>Notes</th>\n",
              "      <th>Status</th>\n",
              "    </tr>\n",
              "  </thead>\n",
              "  <tbody>\n",
              "    <tr>\n",
              "      <th>3824</th>\n",
              "      <td>3825</td>\n",
              "      <td>KEVIN LEE</td>\n",
              "      <td>POLICE OFFICER III</td>\n",
              "      <td>112401.08</td>\n",
              "      <td>19374.72</td>\n",
              "      <td>1062.10</td>\n",
              "      <td>0.00</td>\n",
              "      <td>132837.90</td>\n",
              "      <td>132837.90</td>\n",
              "      <td>2011</td>\n",
              "      <td>NaN</td>\n",
              "      <td>NaN</td>\n",
              "    </tr>\n",
              "    <tr>\n",
              "      <th>4036</th>\n",
              "      <td>4037</td>\n",
              "      <td>KEVIN LEE</td>\n",
              "      <td>POLICE OFFICER II</td>\n",
              "      <td>108000.94</td>\n",
              "      <td>17468.40</td>\n",
              "      <td>6025.54</td>\n",
              "      <td>0.00</td>\n",
              "      <td>131494.88</td>\n",
              "      <td>131494.88</td>\n",
              "      <td>2011</td>\n",
              "      <td>NaN</td>\n",
              "      <td>NaN</td>\n",
              "    </tr>\n",
              "    <tr>\n",
              "      <th>5279</th>\n",
              "      <td>5280</td>\n",
              "      <td>KEVIN LEE</td>\n",
              "      <td>ELECTRICAL TRANSIT SYSTEM MECHANIC</td>\n",
              "      <td>77580.68</td>\n",
              "      <td>36378.97</td>\n",
              "      <td>8858.96</td>\n",
              "      <td>0.00</td>\n",
              "      <td>122818.61</td>\n",
              "      <td>122818.61</td>\n",
              "      <td>2011</td>\n",
              "      <td>NaN</td>\n",
              "      <td>NaN</td>\n",
              "    </tr>\n",
              "    <tr>\n",
              "      <th>13169</th>\n",
              "      <td>13170</td>\n",
              "      <td>KEVIN LEE</td>\n",
              "      <td>DEPUTY COURT CLERK III</td>\n",
              "      <td>83693.01</td>\n",
              "      <td>0.00</td>\n",
              "      <td>609.60</td>\n",
              "      <td>0.00</td>\n",
              "      <td>84302.61</td>\n",
              "      <td>84302.61</td>\n",
              "      <td>2011</td>\n",
              "      <td>NaN</td>\n",
              "      <td>NaN</td>\n",
              "    </tr>\n",
              "    <tr>\n",
              "      <th>13419</th>\n",
              "      <td>13420</td>\n",
              "      <td>KEVIN LEE</td>\n",
              "      <td>DEPUTY COURT CLERK III</td>\n",
              "      <td>83560.00</td>\n",
              "      <td>0.00</td>\n",
              "      <td>0.00</td>\n",
              "      <td>0.00</td>\n",
              "      <td>83560.00</td>\n",
              "      <td>83560.00</td>\n",
              "      <td>2011</td>\n",
              "      <td>NaN</td>\n",
              "      <td>NaN</td>\n",
              "    </tr>\n",
              "    <tr>\n",
              "      <th>15312</th>\n",
              "      <td>15313</td>\n",
              "      <td>KEVIN LEE</td>\n",
              "      <td>PERSONNEL ANALYST</td>\n",
              "      <td>76786.31</td>\n",
              "      <td>0.00</td>\n",
              "      <td>0.00</td>\n",
              "      <td>0.00</td>\n",
              "      <td>76786.31</td>\n",
              "      <td>76786.31</td>\n",
              "      <td>2011</td>\n",
              "      <td>NaN</td>\n",
              "      <td>NaN</td>\n",
              "    </tr>\n",
              "    <tr>\n",
              "      <th>17163</th>\n",
              "      <td>17164</td>\n",
              "      <td>KEVIN LEE</td>\n",
              "      <td>SENIOR PARKING CONTROL OFFICER</td>\n",
              "      <td>65324.60</td>\n",
              "      <td>4944.02</td>\n",
              "      <td>686.93</td>\n",
              "      <td>0.00</td>\n",
              "      <td>70955.55</td>\n",
              "      <td>70955.55</td>\n",
              "      <td>2011</td>\n",
              "      <td>NaN</td>\n",
              "      <td>NaN</td>\n",
              "    </tr>\n",
              "    <tr>\n",
              "      <th>17646</th>\n",
              "      <td>17647</td>\n",
              "      <td>KEVIN LEE</td>\n",
              "      <td>IS ADMINISTRATOR II</td>\n",
              "      <td>66349.74</td>\n",
              "      <td>718.23</td>\n",
              "      <td>2325.47</td>\n",
              "      <td>0.00</td>\n",
              "      <td>69393.44</td>\n",
              "      <td>69393.44</td>\n",
              "      <td>2011</td>\n",
              "      <td>NaN</td>\n",
              "      <td>NaN</td>\n",
              "    </tr>\n",
              "    <tr>\n",
              "      <th>27053</th>\n",
              "      <td>27054</td>\n",
              "      <td>KEVIN LEE</td>\n",
              "      <td>TRANSIT OPERATOR</td>\n",
              "      <td>31501.33</td>\n",
              "      <td>5003.46</td>\n",
              "      <td>770.75</td>\n",
              "      <td>0.00</td>\n",
              "      <td>37275.54</td>\n",
              "      <td>37275.54</td>\n",
              "      <td>2011</td>\n",
              "      <td>NaN</td>\n",
              "      <td>NaN</td>\n",
              "    </tr>\n",
              "    <tr>\n",
              "      <th>39715</th>\n",
              "      <td>39716</td>\n",
              "      <td>Kevin Lee</td>\n",
              "      <td>Police Officer 3</td>\n",
              "      <td>115866.90</td>\n",
              "      <td>23523.30</td>\n",
              "      <td>9313.54</td>\n",
              "      <td>34906.20</td>\n",
              "      <td>148703.74</td>\n",
              "      <td>183609.94</td>\n",
              "      <td>2012</td>\n",
              "      <td>NaN</td>\n",
              "      <td>NaN</td>\n",
              "    </tr>\n",
              "    <tr>\n",
              "      <th>40570</th>\n",
              "      <td>40571</td>\n",
              "      <td>Kevin Lee</td>\n",
              "      <td>Police Officer 3</td>\n",
              "      <td>117171.41</td>\n",
              "      <td>19606.88</td>\n",
              "      <td>4244.90</td>\n",
              "      <td>34610.10</td>\n",
              "      <td>141023.19</td>\n",
              "      <td>175633.29</td>\n",
              "      <td>2012</td>\n",
              "      <td>NaN</td>\n",
              "      <td>NaN</td>\n",
              "    </tr>\n",
              "    <tr>\n",
              "      <th>42510</th>\n",
              "      <td>42511</td>\n",
              "      <td>Kevin Lee</td>\n",
              "      <td>Electrical Transit System Mech</td>\n",
              "      <td>79220.54</td>\n",
              "      <td>40247.39</td>\n",
              "      <td>3353.49</td>\n",
              "      <td>38781.04</td>\n",
              "      <td>122821.42</td>\n",
              "      <td>161602.46</td>\n",
              "      <td>2012</td>\n",
              "      <td>NaN</td>\n",
              "      <td>NaN</td>\n",
              "    </tr>\n",
              "    <tr>\n",
              "      <th>49270</th>\n",
              "      <td>49271</td>\n",
              "      <td>Kevin Lee</td>\n",
              "      <td>Deputy Court Clerk III</td>\n",
              "      <td>84512.32</td>\n",
              "      <td>0.00</td>\n",
              "      <td>1469.99</td>\n",
              "      <td>36080.30</td>\n",
              "      <td>85982.31</td>\n",
              "      <td>122062.61</td>\n",
              "      <td>2012</td>\n",
              "      <td>NaN</td>\n",
              "      <td>NaN</td>\n",
              "    </tr>\n",
              "    <tr>\n",
              "      <th>49439</th>\n",
              "      <td>49440</td>\n",
              "      <td>Kevin Lee</td>\n",
              "      <td>Deputy Court Clerk III</td>\n",
              "      <td>84512.34</td>\n",
              "      <td>0.00</td>\n",
              "      <td>975.44</td>\n",
              "      <td>35902.02</td>\n",
              "      <td>85487.78</td>\n",
              "      <td>121389.80</td>\n",
              "      <td>2012</td>\n",
              "      <td>NaN</td>\n",
              "      <td>NaN</td>\n",
              "    </tr>\n",
              "    <tr>\n",
              "      <th>50123</th>\n",
              "      <td>50124</td>\n",
              "      <td>Kevin Lee</td>\n",
              "      <td>Personnel Analyst</td>\n",
              "      <td>83382.00</td>\n",
              "      <td>0.00</td>\n",
              "      <td>0.00</td>\n",
              "      <td>35210.59</td>\n",
              "      <td>83382.00</td>\n",
              "      <td>118592.59</td>\n",
              "      <td>2012</td>\n",
              "      <td>NaN</td>\n",
              "      <td>NaN</td>\n",
              "    </tr>\n",
              "    <tr>\n",
              "      <th>52233</th>\n",
              "      <td>52234</td>\n",
              "      <td>Kevin Lee</td>\n",
              "      <td>Senior Parking Control Officer</td>\n",
              "      <td>66774.03</td>\n",
              "      <td>9599.08</td>\n",
              "      <td>1092.62</td>\n",
              "      <td>31902.38</td>\n",
              "      <td>77465.73</td>\n",
              "      <td>109368.11</td>\n",
              "      <td>2012</td>\n",
              "      <td>NaN</td>\n",
              "      <td>NaN</td>\n",
              "    </tr>\n",
              "    <tr>\n",
              "      <th>53931</th>\n",
              "      <td>53932</td>\n",
              "      <td>Kevin Lee</td>\n",
              "      <td>Transit Operator</td>\n",
              "      <td>57397.32</td>\n",
              "      <td>9989.83</td>\n",
              "      <td>1800.48</td>\n",
              "      <td>34577.54</td>\n",
              "      <td>69187.63</td>\n",
              "      <td>103765.17</td>\n",
              "      <td>2012</td>\n",
              "      <td>NaN</td>\n",
              "      <td>NaN</td>\n",
              "    </tr>\n",
              "    <tr>\n",
              "      <th>55119</th>\n",
              "      <td>55120</td>\n",
              "      <td>Kevin Lee</td>\n",
              "      <td>IS Administrator 2</td>\n",
              "      <td>68940.44</td>\n",
              "      <td>0.00</td>\n",
              "      <td>0.00</td>\n",
              "      <td>30650.48</td>\n",
              "      <td>68940.44</td>\n",
              "      <td>99590.92</td>\n",
              "      <td>2012</td>\n",
              "      <td>NaN</td>\n",
              "      <td>NaN</td>\n",
              "    </tr>\n",
              "    <tr>\n",
              "      <th>112385</th>\n",
              "      <td>112386</td>\n",
              "      <td>Kevin Lee</td>\n",
              "      <td>Sergeant 3</td>\n",
              "      <td>137982.14</td>\n",
              "      <td>18537.19</td>\n",
              "      <td>16039.62</td>\n",
              "      <td>43039.12</td>\n",
              "      <td>172558.95</td>\n",
              "      <td>215598.07</td>\n",
              "      <td>2014</td>\n",
              "      <td>NaN</td>\n",
              "      <td>NaN</td>\n",
              "    </tr>\n",
              "    <tr>\n",
              "      <th>123141</th>\n",
              "      <td>123142</td>\n",
              "      <td>Kevin Lee</td>\n",
              "      <td>IT Operations Support Admin IV</td>\n",
              "      <td>91606.03</td>\n",
              "      <td>0.00</td>\n",
              "      <td>1013.00</td>\n",
              "      <td>34109.61</td>\n",
              "      <td>92619.03</td>\n",
              "      <td>126728.64</td>\n",
              "      <td>2014</td>\n",
              "      <td>NaN</td>\n",
              "      <td>NaN</td>\n",
              "    </tr>\n",
              "    <tr>\n",
              "      <th>124165</th>\n",
              "      <td>124166</td>\n",
              "      <td>Kevin Lee</td>\n",
              "      <td>Personnel Analyst</td>\n",
              "      <td>88353.01</td>\n",
              "      <td>0.00</td>\n",
              "      <td>0.00</td>\n",
              "      <td>33172.33</td>\n",
              "      <td>88353.01</td>\n",
              "      <td>121525.34</td>\n",
              "      <td>2014</td>\n",
              "      <td>NaN</td>\n",
              "      <td>NaN</td>\n",
              "    </tr>\n",
              "    <tr>\n",
              "      <th>124658</th>\n",
              "      <td>124659</td>\n",
              "      <td>Kevin Lee</td>\n",
              "      <td>Transit Operator</td>\n",
              "      <td>67230.30</td>\n",
              "      <td>10961.25</td>\n",
              "      <td>4050.85</td>\n",
              "      <td>36777.83</td>\n",
              "      <td>82242.40</td>\n",
              "      <td>119020.23</td>\n",
              "      <td>2014</td>\n",
              "      <td>NaN</td>\n",
              "      <td>NaN</td>\n",
              "    </tr>\n",
              "  </tbody>\n",
              "</table>\n",
              "</div>"
            ],
            "text/plain": [
              "            Id EmployeeName  ... Notes  Status\n",
              "3824      3825    KEVIN LEE  ...   NaN     NaN\n",
              "4036      4037    KEVIN LEE  ...   NaN     NaN\n",
              "5279      5280    KEVIN LEE  ...   NaN     NaN\n",
              "13169    13170    KEVIN LEE  ...   NaN     NaN\n",
              "13419    13420    KEVIN LEE  ...   NaN     NaN\n",
              "15312    15313    KEVIN LEE  ...   NaN     NaN\n",
              "17163    17164    KEVIN LEE  ...   NaN     NaN\n",
              "17646    17647    KEVIN LEE  ...   NaN     NaN\n",
              "27053    27054    KEVIN LEE  ...   NaN     NaN\n",
              "39715    39716    Kevin Lee  ...   NaN     NaN\n",
              "40570    40571    Kevin Lee  ...   NaN     NaN\n",
              "42510    42511    Kevin Lee  ...   NaN     NaN\n",
              "49270    49271    Kevin Lee  ...   NaN     NaN\n",
              "49439    49440    Kevin Lee  ...   NaN     NaN\n",
              "50123    50124    Kevin Lee  ...   NaN     NaN\n",
              "52233    52234    Kevin Lee  ...   NaN     NaN\n",
              "53931    53932    Kevin Lee  ...   NaN     NaN\n",
              "55119    55120    Kevin Lee  ...   NaN     NaN\n",
              "112385  112386    Kevin Lee  ...   NaN     NaN\n",
              "123141  123142    Kevin Lee  ...   NaN     NaN\n",
              "124165  124166    Kevin Lee  ...   NaN     NaN\n",
              "124658  124659    Kevin Lee  ...   NaN     NaN\n",
              "\n",
              "[22 rows x 12 columns]"
            ]
          },
          "metadata": {
            "tags": []
          },
          "execution_count": 80
        }
      ]
    },
    {
      "cell_type": "markdown",
      "metadata": {
        "id": "zB_Fu1c9Pm1u",
        "colab_type": "text"
      },
      "source": [
        "*The names are duplicated because the data describes one person in different years or just because there are people who have same name. It's ok so we only need to uppercase all of the name to eliminate case sensitive.*\n",
        "\n",
        "*But there are definitely some duplication of Job Title, example `Police Officer 3` and `POLICE OFFICER III`*"
      ]
    },
    {
      "cell_type": "code",
      "metadata": {
        "id": "Ufw8QW-6Pm1u",
        "colab_type": "code",
        "colab": {}
      },
      "source": [
        "# Replace Name and Job Title with its uppercase\n",
        "# Fill the blanks\n",
        "sal['EmployeeName'] = sal['EmployeeName'].str.upper()\n",
        "sal['JobTitle'] = sal['JobTitle'].str.upper()"
      ],
      "execution_count": 0,
      "outputs": []
    },
    {
      "cell_type": "code",
      "metadata": {
        "id": "heSYToXzPm1x",
        "colab_type": "code",
        "colab": {
          "base_uri": "https://localhost:8080/",
          "height": 1000
        },
        "outputId": "bd52e90c-8ce1-462a-f537-480adac3ad71"
      },
      "source": [
        "# Write a regular expression to select JobTitle that ends with a digit\n",
        "# Fill the blank\n",
        "sal['JobTitle'][sal['JobTitle'].str.contains('\\d$', regex=True)].value_counts()"
      ],
      "execution_count": 82,
      "outputs": [
        {
          "output_type": "execute_result",
          "data": {
            "text/plain": [
              "POLICE OFFICER 3                 2418\n",
              "POLICE OFFICER 2                 1141\n",
              "SERGEANT 3                       1047\n",
              "LIBRARIAN 1                       530\n",
              "HEALTH WORKER 3                   438\n",
              "HEALTH WORKER 2                   415\n",
              "INSPECTOR 3                       318\n",
              "LIEUTENANT 3                      303\n",
              "SECRETARY 2                       301\n",
              "LIBRARY TECHNICAL ASSISTANT 1     237\n",
              "LEGAL SECRETARY 1                 184\n",
              "EXECUTIVE SECRETARY 1             184\n",
              "EXECUTIVE SECRETARY 2             178\n",
              "HEALTH CARE BILLING CLERK 2       177\n",
              "LIBRARIAN 2                       174\n",
              "PLANNER 3                         174\n",
              "HEALTH PROGRAM COORDINATOR 3      167\n",
              "EMPLOYMENT & TRAINING SPEC 3      167\n",
              "HEALTH WORKER 1                   163\n",
              "SR. COMMUNITY DEVL SPC 1          148\n",
              "GENERAL LABORER SUPERVISOR 1      137\n",
              "SERGEANT 2                        131\n",
              "IS ADMINISTRATOR 2                113\n",
              "PLANNER 2                         106\n",
              "COMMUNICATIONS DISPATCHER 1       106\n",
              "CAPTAIN 3                         101\n",
              "ENGINEERING ASSOCIATE 1            99\n",
              "LIBRARY TECHNICAL ASSISTANT 2      96\n",
              "CONTRACT COMPLIANCE OFFICER 1      96\n",
              "COMMUNICATIONS DISPATCHER 2        88\n",
              "                                 ... \n",
              "ELECTRIC MOTOR REPAIR SPRV 1        3\n",
              "BD/COMM SECRETARY 3                 3\n",
              "ORTHOPEDIC TECHNICIAN 2             3\n",
              "ASPHALT PLANT SUPERVISOR 1          3\n",
              "SPECIAL ASSISTANT 15                3\n",
              "PLUMBER SUPERVISOR 2                3\n",
              "ASST DIR OF CLINICAL SVCS 1         3\n",
              "SPECIALIST IN AGING 2               3\n",
              "EMPLOYMENT & TRAINING SPEC 6        3\n",
              "WHARFINGER 1                        3\n",
              "ROOFER SUPERVISOR 1                 3\n",
              "SPECIAL ASSISTANT 14                3\n",
              "ORTHOPEDIC TECHNICIAN 1             3\n",
              "SPECIAL ASSISTANT 21                3\n",
              "ORNAMENTAL IRON WRK SPRV 1          3\n",
              "AUTO BODY & FENDER WRK SPRV 1       3\n",
              "PAINTER SUPERVISOR 2                3\n",
              "POWER PLANT SUPERVISOR 1            3\n",
              "SPECIAL ASSISTANT 11                2\n",
              "SPECIAL ASSISTANT 16                2\n",
              "GLAZIER SUPERVISOR 1                2\n",
              "CEMENT FINISHER SUPERVISOR 2        2\n",
              "WATER METER SHOP SUPERVISOR 1       2\n",
              "TRANSIT PAINT SHOP SPRV1            2\n",
              "ENVIRONMENTAL HLTH TECH 2           2\n",
              "SPECIAL ASSISTANT 18                1\n",
              "SPECIAL ASSISTANT 13                1\n",
              "ASST DIR CLINICAL SVCS 2            1\n",
              "CASHIER 3                           1\n",
              "SPECIAL ASSISTANT 8                 1\n",
              "Name: JobTitle, Length: 166, dtype: int64"
            ]
          },
          "metadata": {
            "tags": []
          },
          "execution_count": 82
        }
      ]
    },
    {
      "cell_type": "code",
      "metadata": {
        "id": "xaYYbPRPPm10",
        "colab_type": "code",
        "outputId": "2368bbfa-23f4-4e02-883a-767b7556c83c",
        "colab": {
          "base_uri": "https://localhost:8080/",
          "height": 136
        }
      },
      "source": [
        "# Write a regex that count all JobTitle start with POLICE OFFICER\n",
        "# Fill the blank\n",
        "sal['JobTitle'][sal['JobTitle'].str.contains('^POLICE OFFICER', regex=True)].value_counts()"
      ],
      "execution_count": 83,
      "outputs": [
        {
          "output_type": "execute_result",
          "data": {
            "text/plain": [
              "POLICE OFFICER 3      2418\n",
              "POLICE OFFICER        1476\n",
              "POLICE OFFICER 2      1141\n",
              "POLICE OFFICER III     779\n",
              "POLICE OFFICER I       467\n",
              "POLICE OFFICER II      361\n",
              "Name: JobTitle, dtype: int64"
            ]
          },
          "metadata": {
            "tags": []
          },
          "execution_count": 83
        }
      ]
    },
    {
      "cell_type": "markdown",
      "metadata": {
        "id": "1u2obTwpT55c",
        "colab_type": "text"
      },
      "source": [
        "There are discrepancies on how those `JobTitle` are represented. For instance: `POLICE OFFICER II` is `POLICE OFFICER 2` and those should be treated equally.\n",
        "\n",
        "We'll modify this feature accordingly by transforming all the Roman numbers  to our every day numbers.\n"
      ]
    },
    {
      "cell_type": "code",
      "metadata": {
        "id": "V1eYSjo0Pm12",
        "colab_type": "code",
        "outputId": "309dafb8-a0fd-45e3-9875-a43cd0574ab6",
        "colab": {
          "base_uri": "https://localhost:8080/",
          "height": 34
        }
      },
      "source": [
        "# This is a simple function to transform roman number\n",
        "def transform_roman(s):\n",
        "    d = {'I':1, 'II':2, 'III':3, 'IV':4, 'V':5, 'VI':6, 'VII':7, 'VIII':8, 'IX':9, 'X':10, \n",
        "        'XI':11, 'XII':12, 'XIII':13, 'XIV':14, 'XV':15, 'XVI':16, 'XVII':17, 'XVIII':18, 'XIX':19, 'XX':20}\n",
        "    \n",
        "    s_split = s.split()\n",
        "    if s_split[-1] in d.keys():\n",
        "        s_split[-1] = str(d[s_split[-1]])\n",
        "    return ' '.join(s_split)\n",
        "\n",
        "# Test it out\n",
        "transform_roman('POLICE OFFICER III')"
      ],
      "execution_count": 84,
      "outputs": [
        {
          "output_type": "execute_result",
          "data": {
            "text/plain": [
              "'POLICE OFFICER 3'"
            ]
          },
          "metadata": {
            "tags": []
          },
          "execution_count": 84
        }
      ]
    },
    {
      "cell_type": "code",
      "metadata": {
        "id": "2PX5dFaxPm14",
        "colab_type": "code",
        "colab": {
          "base_uri": "https://localhost:8080/",
          "height": 34
        },
        "outputId": "6120d175-329e-4ae9-d1a2-50a636b5a654"
      },
      "source": [
        "# Apply the function above to the column JobTitle\n",
        "# Fill the blank\n",
        "# sal['JobTitle'] = sal['JobTitle'].apply(transform_roman)\n",
        "sal['JobTitle'].nunique()"
      ],
      "execution_count": 85,
      "outputs": [
        {
          "output_type": "execute_result",
          "data": {
            "text/plain": [
              "1637"
            ]
          },
          "metadata": {
            "tags": []
          },
          "execution_count": 85
        }
      ]
    },
    {
      "cell_type": "code",
      "metadata": {
        "id": "ipumhW3w0MBW",
        "colab_type": "code",
        "colab": {}
      },
      "source": [
        "sal['JobTitle'] = sal['JobTitle'].apply(transform_roman)"
      ],
      "execution_count": 0,
      "outputs": []
    },
    {
      "cell_type": "code",
      "metadata": {
        "id": "fi9eKJPw0PNW",
        "colab_type": "code",
        "colab": {
          "base_uri": "https://localhost:8080/",
          "height": 34
        },
        "outputId": "7436c728-abd1-4323-a31b-a1f77ee3e9c7"
      },
      "source": [
        "sal['JobTitle'].nunique()"
      ],
      "execution_count": 87,
      "outputs": [
        {
          "output_type": "execute_result",
          "data": {
            "text/plain": [
              "1530"
            ]
          },
          "metadata": {
            "tags": []
          },
          "execution_count": 87
        }
      ]
    },
    {
      "cell_type": "markdown",
      "metadata": {
        "id": "Ikd1t-v3Pm17",
        "colab_type": "text"
      },
      "source": [
        "### Step 4 - EDA"
      ]
    },
    {
      "cell_type": "markdown",
      "metadata": {
        "id": "-dEBLw1uPm1-",
        "colab_type": "text"
      },
      "source": [
        "**Plot categorical data**"
      ]
    },
    {
      "cell_type": "code",
      "metadata": {
        "id": "_N-UF331Pm1-",
        "colab_type": "code",
        "outputId": "08ca95db-a351-421f-a941-baf5464e863b",
        "colab": {
          "base_uri": "https://localhost:8080/",
          "height": 283
        }
      },
      "source": [
        "sns.countplot(x='Year', data=sal);\n",
        "# What can you tell by looking at this?"
      ],
      "execution_count": 89,
      "outputs": [
        {
          "output_type": "display_data",
          "data": {
            "image/png": "[encoded data removed]",
            "text/plain": [
              "<Figure size 432x288 with 1 Axes>"
            ]
          },
          "metadata": {
            "tags": []
          }
        }
      ]
    },
    {
      "cell_type": "markdown",
      "metadata": {
        "id": "pGvAB5cNPm2D",
        "colab_type": "text"
      },
      "source": [
        "**Top 5 common job titles**"
      ]
    },
    {
      "cell_type": "code",
      "metadata": {
        "id": "3LrHbjpHPm2D",
        "colab_type": "code",
        "colab": {
          "base_uri": "https://localhost:8080/",
          "height": 286
        },
        "outputId": "6e214dfa-755e-44a2-909e-6fa81a55230c"
      },
      "source": [
        "# Fill the blanks \n",
        "sal['JobTitle'].value_counts().head().plot(kind='barh')"
      ],
      "execution_count": 90,
      "outputs": [
        {
          "output_type": "execute_result",
          "data": {
            "text/plain": [
              "<matplotlib.axes._subplots.AxesSubplot at 0x7ff4c690e2e8>"
            ]
          },
          "metadata": {
            "tags": []
          },
          "execution_count": 90
        },
        {
          "output_type": "display_data",
          "data": {
            "image/png": "[encoded data removed]",
            "text/plain": [
              "<Figure size 432x288 with 1 Axes>"
            ]
          },
          "metadata": {
            "tags": []
          }
        }
      ]
    },
    {
      "cell_type": "markdown",
      "metadata": {
        "id": "JZvwnGZ-Pm2F",
        "colab_type": "text"
      },
      "source": [
        "**Distribution of numerical data**"
      ]
    },
    {
      "cell_type": "code",
      "metadata": {
        "id": "UnTkDE4NPm2F",
        "colab_type": "code",
        "colab": {
          "base_uri": "https://localhost:8080/",
          "height": 300
        },
        "outputId": "954d3932-a0fe-499c-8874-e70e07b293d5"
      },
      "source": [
        "# Run this\n",
        "sns.distplot(sal['TotalPayBenefits'])"
      ],
      "execution_count": 91,
      "outputs": [
        {
          "output_type": "execute_result",
          "data": {
            "text/plain": [
              "<matplotlib.axes._subplots.AxesSubplot at 0x7ff4c6482748>"
            ]
          },
          "metadata": {
            "tags": []
          },
          "execution_count": 91
        },
        {
          "output_type": "display_data",
          "data": {
            "image/png": "[encoded data removed]",
            "text/plain": [
              "<Figure size 432x288 with 1 Axes>"
            ]
          },
          "metadata": {
            "tags": []
          }
        }
      ]
    },
    {
      "cell_type": "code",
      "metadata": {
        "id": "rS3lsmV4Pm2J",
        "colab_type": "code",
        "colab": {
          "base_uri": "https://localhost:8080/",
          "height": 269
        },
        "outputId": "41645da3-515c-4f04-9557-a65844b7658d"
      },
      "source": [
        "# Histogram is sensitive with the bins, try some examples to prove that\n",
        "plt.hist(sal['TotalPayBenefits'], bins=5)\n",
        "plt.show()"
      ],
      "execution_count": 92,
      "outputs": [
        {
          "output_type": "display_data",
          "data": {
            "image/png": "[encoded data removed]",
            "text/plain": [
              "<Figure size 432x288 with 1 Axes>"
            ]
          },
          "metadata": {
            "tags": []
          }
        }
      ]
    },
    {
      "cell_type": "code",
      "metadata": {
        "colab_type": "code",
        "outputId": "f1a22943-7887-4201-f16c-486b93c52a53",
        "id": "OmY97JiBsn__",
        "colab": {
          "base_uri": "https://localhost:8080/",
          "height": 378
        }
      },
      "source": [
        "# Plot these diagrams in a dashboard with two rows and two columns\n",
        "# sns.kdeplot(sal['BasePay'])\n",
        "# sns.kdeplot(sal['OvertimePay'])\n",
        "# sns.kdeplot(sal['OtherPay'])\n",
        "# sns.kdeplot(sal['Benefits'])\n",
        "\n",
        "f, axes = plt.subplots(2, 2, figsize=(12, 6))\n",
        "\n",
        "# Your code here\n",
        "sns.kdeplot(sal['BasePay'],ax=axes[0,0])\n",
        "sns.kdeplot(sal['OvertimePay'],ax=axes[0,1])\n",
        "sns.kdeplot(sal['OtherPay'],ax=axes[1,0])\n",
        "sns.kdeplot(sal['Benefits'],ax=axes[1,1])\n",
        "\n",
        "plt.show()"
      ],
      "execution_count": 94,
      "outputs": [
        {
          "output_type": "display_data",
          "data": {
            "image/png": "[encoded data removed]",
            "text/plain": [
              "<Figure size 864x432 with 4 Axes>"
            ]
          },
          "metadata": {
            "tags": []
          }
        }
      ]
    },
    {
      "cell_type": "code",
      "metadata": {
        "id": "3bhCQzNfPm2S",
        "colab_type": "code",
        "outputId": "353ff3de-22e4-4a83-f872-97dd4ffaf54b",
        "colab": {
          "base_uri": "https://localhost:8080/",
          "height": 392
        }
      },
      "source": [
        "# Plot these diagrams in a dashboard with one rows and two columns\n",
        "# sns.distplot(sal['TotalPay'])\n",
        "# sns.distplot(sal['TotalPayBenefits'])\n",
        "\n",
        "f, axes = plt.subplots(1, 2, figsize=(12, 6))\n",
        "\n",
        "# Your code here\n",
        "sns.distplot(sal['TotalPay'], ax=axes[0])\n",
        "sns.distplot(sal['TotalPayBenefits'],ax=axes[1])\n",
        "\n",
        "plt.show()"
      ],
      "execution_count": 95,
      "outputs": [
        {
          "output_type": "display_data",
          "data": {
            "image/png": "[encoded data removed]",
            "text/plain": [
              "<Figure size 864x432 with 2 Axes>"
            ]
          },
          "metadata": {
            "tags": []
          }
        }
      ]
    },
    {
      "cell_type": "markdown",
      "metadata": {
        "id": "AYQl8xQstFcl",
        "colab_type": "text"
      },
      "source": [
        "**Analize richest people**"
      ]
    },
    {
      "cell_type": "code",
      "metadata": {
        "id": "wnr3XVJYPm2U",
        "colab_type": "code",
        "colab": {
          "base_uri": "https://localhost:8080/",
          "height": 238
        },
        "outputId": "890ee05c-a162-4959-ec13-2272df17df0e"
      },
      "source": [
        "# Select people that have TotalPayBenefit greater than $300k\n",
        "# Your code here\n",
        "sal[sal['TotalPayBenefits'] >300000].count()"
      ],
      "execution_count": 97,
      "outputs": [
        {
          "output_type": "execute_result",
          "data": {
            "text/plain": [
              "Id                  289\n",
              "EmployeeName        289\n",
              "JobTitle            289\n",
              "BasePay             289\n",
              "OvertimePay         289\n",
              "OtherPay            289\n",
              "Benefits            289\n",
              "TotalPay            289\n",
              "TotalPayBenefits    289\n",
              "Year                289\n",
              "Notes                 0\n",
              "Status                0\n",
              "dtype: int64"
            ]
          },
          "metadata": {
            "tags": []
          },
          "execution_count": 97
        }
      ]
    },
    {
      "cell_type": "code",
      "metadata": {
        "id": "Qc4DYmaNPm2Y",
        "colab_type": "code",
        "colab": {}
      },
      "source": [
        "def split_income_type(n):\n",
        "    if n < 1000:\n",
        "        return 'Retired'\n",
        "    elif n < 50000:\n",
        "        return 'Low Income'\n",
        "    elif n < 150000:\n",
        "        return 'Midrange'\n",
        "    elif n < 250000:\n",
        "        return 'High Income'\n",
        "    else:\n",
        "        return 'Millionaire'"
      ],
      "execution_count": 0,
      "outputs": []
    },
    {
      "cell_type": "code",
      "metadata": {
        "id": "ndS0LG9_tX0Y",
        "colab_type": "code",
        "colab": {}
      },
      "source": [
        "# Apply the function above to create a new column name IncomeType from TotalPayBenefits\n",
        "# Fill the blank\n",
        "sal['IncomeType'] = sal['TotalPayBenefits'].apply(split_income_type)"
      ],
      "execution_count": 0,
      "outputs": []
    },
    {
      "cell_type": "code",
      "metadata": {
        "id": "SeIMk9YS3SOU",
        "colab_type": "code",
        "colab": {
          "base_uri": "https://localhost:8080/",
          "height": 306
        },
        "outputId": "b95d4cc7-7878-4413-fc2d-8b9c346dd142"
      },
      "source": [
        "sal.head()"
      ],
      "execution_count": 100,
      "outputs": [
        {
          "output_type": "execute_result",
          "data": {
            "text/html": [
              "<div>\n",
              "<style scoped>\n",
              "    .dataframe tbody tr th:only-of-type {\n",
              "        vertical-align: middle;\n",
              "    }\n",
              "\n",
              "    .dataframe tbody tr th {\n",
              "        vertical-align: top;\n",
              "    }\n",
              "\n",
              "    .dataframe thead th {\n",
              "        text-align: right;\n",
              "    }\n",
              "</style>\n",
              "<table border=\"1\" class=\"dataframe\">\n",
              "  <thead>\n",
              "    <tr style=\"text-align: right;\">\n",
              "      <th></th>\n",
              "      <th>Id</th>\n",
              "      <th>EmployeeName</th>\n",
              "      <th>JobTitle</th>\n",
              "      <th>BasePay</th>\n",
              "      <th>OvertimePay</th>\n",
              "      <th>OtherPay</th>\n",
              "      <th>Benefits</th>\n",
              "      <th>TotalPay</th>\n",
              "      <th>TotalPayBenefits</th>\n",
              "      <th>Year</th>\n",
              "      <th>Notes</th>\n",
              "      <th>Status</th>\n",
              "      <th>IncomeType</th>\n",
              "    </tr>\n",
              "  </thead>\n",
              "  <tbody>\n",
              "    <tr>\n",
              "      <th>0</th>\n",
              "      <td>1</td>\n",
              "      <td>NATHANIEL FORD</td>\n",
              "      <td>GENERAL MANAGER-METROPOLITAN TRANSIT AUTHORITY</td>\n",
              "      <td>167411.18</td>\n",
              "      <td>0.00</td>\n",
              "      <td>400184.25</td>\n",
              "      <td>0.0</td>\n",
              "      <td>567595.43</td>\n",
              "      <td>567595.43</td>\n",
              "      <td>2011</td>\n",
              "      <td>NaN</td>\n",
              "      <td>NaN</td>\n",
              "      <td>Millionaire</td>\n",
              "    </tr>\n",
              "    <tr>\n",
              "      <th>1</th>\n",
              "      <td>2</td>\n",
              "      <td>GARY JIMENEZ</td>\n",
              "      <td>CAPTAIN III (POLICE DEPARTMENT)</td>\n",
              "      <td>155966.02</td>\n",
              "      <td>245131.88</td>\n",
              "      <td>137811.38</td>\n",
              "      <td>0.0</td>\n",
              "      <td>538909.28</td>\n",
              "      <td>538909.28</td>\n",
              "      <td>2011</td>\n",
              "      <td>NaN</td>\n",
              "      <td>NaN</td>\n",
              "      <td>Millionaire</td>\n",
              "    </tr>\n",
              "    <tr>\n",
              "      <th>2</th>\n",
              "      <td>3</td>\n",
              "      <td>ALBERT PARDINI</td>\n",
              "      <td>CAPTAIN III (POLICE DEPARTMENT)</td>\n",
              "      <td>212739.13</td>\n",
              "      <td>106088.18</td>\n",
              "      <td>16452.60</td>\n",
              "      <td>0.0</td>\n",
              "      <td>335279.91</td>\n",
              "      <td>335279.91</td>\n",
              "      <td>2011</td>\n",
              "      <td>NaN</td>\n",
              "      <td>NaN</td>\n",
              "      <td>Millionaire</td>\n",
              "    </tr>\n",
              "    <tr>\n",
              "      <th>3</th>\n",
              "      <td>4</td>\n",
              "      <td>CHRISTOPHER CHONG</td>\n",
              "      <td>WIRE ROPE CABLE MAINTENANCE MECHANIC</td>\n",
              "      <td>77916.00</td>\n",
              "      <td>56120.71</td>\n",
              "      <td>198306.90</td>\n",
              "      <td>0.0</td>\n",
              "      <td>332343.61</td>\n",
              "      <td>332343.61</td>\n",
              "      <td>2011</td>\n",
              "      <td>NaN</td>\n",
              "      <td>NaN</td>\n",
              "      <td>Millionaire</td>\n",
              "    </tr>\n",
              "    <tr>\n",
              "      <th>4</th>\n",
              "      <td>5</td>\n",
              "      <td>PATRICK GARDNER</td>\n",
              "      <td>DEPUTY CHIEF OF DEPARTMENT,(FIRE DEPARTMENT)</td>\n",
              "      <td>134401.60</td>\n",
              "      <td>9737.00</td>\n",
              "      <td>182234.59</td>\n",
              "      <td>0.0</td>\n",
              "      <td>326373.19</td>\n",
              "      <td>326373.19</td>\n",
              "      <td>2011</td>\n",
              "      <td>NaN</td>\n",
              "      <td>NaN</td>\n",
              "      <td>Millionaire</td>\n",
              "    </tr>\n",
              "  </tbody>\n",
              "</table>\n",
              "</div>"
            ],
            "text/plain": [
              "  Id       EmployeeName  ... Status   IncomeType\n",
              "0  1     NATHANIEL FORD  ...    NaN  Millionaire\n",
              "1  2       GARY JIMENEZ  ...    NaN  Millionaire\n",
              "2  3     ALBERT PARDINI  ...    NaN  Millionaire\n",
              "3  4  CHRISTOPHER CHONG  ...    NaN  Millionaire\n",
              "4  5    PATRICK GARDNER  ...    NaN  Millionaire\n",
              "\n",
              "[5 rows x 13 columns]"
            ]
          },
          "metadata": {
            "tags": []
          },
          "execution_count": 100
        }
      ]
    },
    {
      "cell_type": "code",
      "metadata": {
        "id": "Uh8VVB1nPm2a",
        "colab_type": "code",
        "outputId": "90e3aea5-1beb-4b04-c25d-aaba7b30df4a",
        "colab": {
          "base_uri": "https://localhost:8080/",
          "height": 300
        }
      },
      "source": [
        "sns.countplot(sal['IncomeType'])\n",
        "# What can you tell?"
      ],
      "execution_count": 101,
      "outputs": [
        {
          "output_type": "execute_result",
          "data": {
            "text/plain": [
              "<matplotlib.axes._subplots.AxesSubplot at 0x7ff4c6cee7f0>"
            ]
          },
          "metadata": {
            "tags": []
          },
          "execution_count": 101
        },
        {
          "output_type": "display_data",
          "data": {
            "image/png": "[encoded data removed]",
            "text/plain": [
              "<Figure size 432x288 with 1 Axes>"
            ]
          },
          "metadata": {
            "tags": []
          }
        }
      ]
    },
    {
      "cell_type": "code",
      "metadata": {
        "id": "iQtknDUIPm2e",
        "colab_type": "code",
        "outputId": "31688abc-c713-4d30-b915-ed16d6a295bb",
        "colab": {
          "base_uri": "https://localhost:8080/",
          "height": 297
        }
      },
      "source": [
        "# Pie chart\n",
        "labels = []\n",
        "sizes = []\n",
        "explode = []\n",
        "\n",
        "labels = sal['IncomeType'].value_counts().index\n",
        "for index, size in enumerate(sal['IncomeType'].value_counts()):\n",
        "    sizes.append(size)\n",
        "    if labels[index]=='Millionaire':\n",
        "        explode.append(0.2)\n",
        "    else: # add high income too?\n",
        "        explode.append(0)\n",
        " \n",
        "f, ax1 = plt.subplots()\n",
        "ax1.pie(sizes, explode=explode, labels=labels, autopct='%1.1f%%',\n",
        "        shadow=True, startangle=45)\n",
        "# Equal aspect ratio ensures that pie is drawn as a circle\n",
        "ax1.axis('equal')  \n",
        "plt.tight_layout()\n",
        "plt.show()"
      ],
      "execution_count": 102,
      "outputs": [
        {
          "output_type": "display_data",
          "data": {
            "image/png": "[encoded data removed]",
            "text/plain": [
              "<Figure size 432x288 with 1 Axes>"
            ]
          },
          "metadata": {
            "tags": []
          }
        }
      ]
    },
    {
      "cell_type": "code",
      "metadata": {
        "id": "pbAUA-kgPm20",
        "colab_type": "code",
        "colab": {
          "base_uri": "https://localhost:8080/",
          "height": 578
        },
        "outputId": "56ea53e1-9597-4298-be5a-c32c8a216d2e"
      },
      "source": [
        "# What is the top 10 Job Title of Millionaire\n",
        "# Fill the blank\n",
        "millionare_jobs = sal[sal['IncomeType'] == 'Millionaire'].groupby('JobTitle').mean()\n",
        "millionare_jobs.sort_values(by=['TotalPayBenefits'], ascending=False)['TotalPayBenefits'].head(10).plot(kind='bar')"
      ],
      "execution_count": 103,
      "outputs": [
        {
          "output_type": "execute_result",
          "data": {
            "text/plain": [
              "<matplotlib.axes._subplots.AxesSubplot at 0x7ff4c6b62a90>"
            ]
          },
          "metadata": {
            "tags": []
          },
          "execution_count": 103
        },
        {
          "output_type": "display_data",
          "data": {
            "image/png": "[encoded data removed]",
            "text/plain": [
              "<Figure size 432x288 with 1 Axes>"
            ]
          },
          "metadata": {
            "tags": []
          }
        }
      ]
    },
    {
      "cell_type": "code",
      "metadata": {
        "id": "5LNMS8DGPm22",
        "colab_type": "code",
        "colab": {
          "base_uri": "https://localhost:8080/",
          "height": 512
        },
        "outputId": "94b31593-9f5e-48a0-95d6-8731242b17f4"
      },
      "source": [
        "# Find the name of 10 richest man\n",
        "# Your code here\n",
        "sal.sort_values(by=['TotalPayBenefits'], ascending=False).head(10)"
      ],
      "execution_count": 104,
      "outputs": [
        {
          "output_type": "execute_result",
          "data": {
            "text/html": [
              "<div>\n",
              "<style scoped>\n",
              "    .dataframe tbody tr th:only-of-type {\n",
              "        vertical-align: middle;\n",
              "    }\n",
              "\n",
              "    .dataframe tbody tr th {\n",
              "        vertical-align: top;\n",
              "    }\n",
              "\n",
              "    .dataframe thead th {\n",
              "        text-align: right;\n",
              "    }\n",
              "</style>\n",
              "<table border=\"1\" class=\"dataframe\">\n",
              "  <thead>\n",
              "    <tr style=\"text-align: right;\">\n",
              "      <th></th>\n",
              "      <th>Id</th>\n",
              "      <th>EmployeeName</th>\n",
              "      <th>JobTitle</th>\n",
              "      <th>BasePay</th>\n",
              "      <th>OvertimePay</th>\n",
              "      <th>OtherPay</th>\n",
              "      <th>Benefits</th>\n",
              "      <th>TotalPay</th>\n",
              "      <th>TotalPayBenefits</th>\n",
              "      <th>Year</th>\n",
              "      <th>Notes</th>\n",
              "      <th>Status</th>\n",
              "      <th>IncomeType</th>\n",
              "    </tr>\n",
              "  </thead>\n",
              "  <tbody>\n",
              "    <tr>\n",
              "      <th>0</th>\n",
              "      <td>1</td>\n",
              "      <td>NATHANIEL FORD</td>\n",
              "      <td>GENERAL MANAGER-METROPOLITAN TRANSIT AUTHORITY</td>\n",
              "      <td>167411.18</td>\n",
              "      <td>0.00</td>\n",
              "      <td>400184.25</td>\n",
              "      <td>0.00</td>\n",
              "      <td>567595.43</td>\n",
              "      <td>567595.43</td>\n",
              "      <td>2011</td>\n",
              "      <td>NaN</td>\n",
              "      <td>NaN</td>\n",
              "      <td>Millionaire</td>\n",
              "    </tr>\n",
              "    <tr>\n",
              "      <th>1</th>\n",
              "      <td>2</td>\n",
              "      <td>GARY JIMENEZ</td>\n",
              "      <td>CAPTAIN III (POLICE DEPARTMENT)</td>\n",
              "      <td>155966.02</td>\n",
              "      <td>245131.88</td>\n",
              "      <td>137811.38</td>\n",
              "      <td>0.00</td>\n",
              "      <td>538909.28</td>\n",
              "      <td>538909.28</td>\n",
              "      <td>2011</td>\n",
              "      <td>NaN</td>\n",
              "      <td>NaN</td>\n",
              "      <td>Millionaire</td>\n",
              "    </tr>\n",
              "    <tr>\n",
              "      <th>110531</th>\n",
              "      <td>110532</td>\n",
              "      <td>DAVID SHINN</td>\n",
              "      <td>DEPUTY CHIEF 3</td>\n",
              "      <td>129150.01</td>\n",
              "      <td>0.00</td>\n",
              "      <td>342802.63</td>\n",
              "      <td>38780.04</td>\n",
              "      <td>471952.64</td>\n",
              "      <td>510732.68</td>\n",
              "      <td>2014</td>\n",
              "      <td>NaN</td>\n",
              "      <td>NaN</td>\n",
              "      <td>Millionaire</td>\n",
              "    </tr>\n",
              "    <tr>\n",
              "      <th>110532</th>\n",
              "      <td>110533</td>\n",
              "      <td>AMY P HART</td>\n",
              "      <td>ASST MED EXAMINER</td>\n",
              "      <td>318835.49</td>\n",
              "      <td>10712.95</td>\n",
              "      <td>60563.54</td>\n",
              "      <td>89540.23</td>\n",
              "      <td>390111.98</td>\n",
              "      <td>479652.21</td>\n",
              "      <td>2014</td>\n",
              "      <td>NaN</td>\n",
              "      <td>NaN</td>\n",
              "      <td>Millionaire</td>\n",
              "    </tr>\n",
              "    <tr>\n",
              "      <th>110533</th>\n",
              "      <td>110534</td>\n",
              "      <td>WILLIAM J COAKER JR.</td>\n",
              "      <td>CHIEF INVESTMENT OFFICER</td>\n",
              "      <td>257340.00</td>\n",
              "      <td>0.00</td>\n",
              "      <td>82313.70</td>\n",
              "      <td>96570.66</td>\n",
              "      <td>339653.70</td>\n",
              "      <td>436224.36</td>\n",
              "      <td>2014</td>\n",
              "      <td>NaN</td>\n",
              "      <td>NaN</td>\n",
              "      <td>Millionaire</td>\n",
              "    </tr>\n",
              "    <tr>\n",
              "      <th>72925</th>\n",
              "      <td>72926</td>\n",
              "      <td>GREGORY P SUHR</td>\n",
              "      <td>CHIEF OF POLICE</td>\n",
              "      <td>319275.01</td>\n",
              "      <td>0.00</td>\n",
              "      <td>20007.06</td>\n",
              "      <td>86533.21</td>\n",
              "      <td>339282.07</td>\n",
              "      <td>425815.28</td>\n",
              "      <td>2013</td>\n",
              "      <td>NaN</td>\n",
              "      <td>NaN</td>\n",
              "      <td>Millionaire</td>\n",
              "    </tr>\n",
              "    <tr>\n",
              "      <th>72926</th>\n",
              "      <td>72927</td>\n",
              "      <td>JOANNE M HAYES-WHITE</td>\n",
              "      <td>CHIEF, FIRE DEPARTMENT</td>\n",
              "      <td>313686.01</td>\n",
              "      <td>0.00</td>\n",
              "      <td>23236.00</td>\n",
              "      <td>85431.39</td>\n",
              "      <td>336922.01</td>\n",
              "      <td>422353.40</td>\n",
              "      <td>2013</td>\n",
              "      <td>NaN</td>\n",
              "      <td>NaN</td>\n",
              "      <td>Millionaire</td>\n",
              "    </tr>\n",
              "    <tr>\n",
              "      <th>110534</th>\n",
              "      <td>110535</td>\n",
              "      <td>GREGORY P SUHR</td>\n",
              "      <td>CHIEF OF POLICE</td>\n",
              "      <td>307450.04</td>\n",
              "      <td>0.00</td>\n",
              "      <td>19266.72</td>\n",
              "      <td>91302.46</td>\n",
              "      <td>326716.76</td>\n",
              "      <td>418019.22</td>\n",
              "      <td>2014</td>\n",
              "      <td>NaN</td>\n",
              "      <td>NaN</td>\n",
              "      <td>Millionaire</td>\n",
              "    </tr>\n",
              "    <tr>\n",
              "      <th>110535</th>\n",
              "      <td>110536</td>\n",
              "      <td>JOANNE M HAYES-WHITE</td>\n",
              "      <td>CHIEF, FIRE DEPARTMENT</td>\n",
              "      <td>302068.00</td>\n",
              "      <td>0.00</td>\n",
              "      <td>24165.44</td>\n",
              "      <td>91201.66</td>\n",
              "      <td>326233.44</td>\n",
              "      <td>417435.10</td>\n",
              "      <td>2014</td>\n",
              "      <td>NaN</td>\n",
              "      <td>NaN</td>\n",
              "      <td>Millionaire</td>\n",
              "    </tr>\n",
              "    <tr>\n",
              "      <th>110536</th>\n",
              "      <td>110537</td>\n",
              "      <td>ELLEN G MOFFATT</td>\n",
              "      <td>ASST MED EXAMINER</td>\n",
              "      <td>270222.04</td>\n",
              "      <td>6009.22</td>\n",
              "      <td>67956.20</td>\n",
              "      <td>71580.48</td>\n",
              "      <td>344187.46</td>\n",
              "      <td>415767.94</td>\n",
              "      <td>2014</td>\n",
              "      <td>NaN</td>\n",
              "      <td>NaN</td>\n",
              "      <td>Millionaire</td>\n",
              "    </tr>\n",
              "  </tbody>\n",
              "</table>\n",
              "</div>"
            ],
            "text/plain": [
              "            Id          EmployeeName  ... Status   IncomeType\n",
              "0            1        NATHANIEL FORD  ...    NaN  Millionaire\n",
              "1            2          GARY JIMENEZ  ...    NaN  Millionaire\n",
              "110531  110532           DAVID SHINN  ...    NaN  Millionaire\n",
              "110532  110533            AMY P HART  ...    NaN  Millionaire\n",
              "110533  110534  WILLIAM J COAKER JR.  ...    NaN  Millionaire\n",
              "72925    72926        GREGORY P SUHR  ...    NaN  Millionaire\n",
              "72926    72927  JOANNE M HAYES-WHITE  ...    NaN  Millionaire\n",
              "110534  110535        GREGORY P SUHR  ...    NaN  Millionaire\n",
              "110535  110536  JOANNE M HAYES-WHITE  ...    NaN  Millionaire\n",
              "110536  110537       ELLEN G MOFFATT  ...    NaN  Millionaire\n",
              "\n",
              "[10 rows x 13 columns]"
            ]
          },
          "metadata": {
            "tags": []
          },
          "execution_count": 104
        }
      ]
    },
    {
      "cell_type": "code",
      "metadata": {
        "id": "GJ4CU80X489C",
        "colab_type": "code",
        "colab": {
          "base_uri": "https://localhost:8080/",
          "height": 300
        },
        "outputId": "f27d1fde-de27-485f-d6b2-d35528cbad3c"
      },
      "source": [
        "top10 = sal.sort_values(by=['TotalPayBenefits'], ascending=False).head(10)\n",
        "sns.barplot(x = 'TotalPayBenefits', y = 'EmployeeName', hue = 'Year', data = top10)"
      ],
      "execution_count": 105,
      "outputs": [
        {
          "output_type": "execute_result",
          "data": {
            "text/plain": [
              "<matplotlib.axes._subplots.AxesSubplot at 0x7ff4c69068d0>"
            ]
          },
          "metadata": {
            "tags": []
          },
          "execution_count": 105
        },
        {
          "output_type": "display_data",
          "data": {
            "image/png": "[encoded data removed]",
            "text/plain": [
              "<Figure size 432x288 with 1 Axes>"
            ]
          },
          "metadata": {
            "tags": []
          }
        }
      ]
    },
    {
      "cell_type": "code",
      "metadata": {
        "id": "TDMwfQIfPm2-",
        "colab_type": "code",
        "colab": {}
      },
      "source": [
        "# Analyze TotalPayBenefits of 10 richest man each Year\n",
        "# Your code here"
      ],
      "execution_count": 0,
      "outputs": []
    },
    {
      "cell_type": "markdown",
      "metadata": {
        "id": "MoBgPjDiwhdV",
        "colab_type": "text"
      },
      "source": [
        "### You are awesome!!"
      ]
    }
  ]
}