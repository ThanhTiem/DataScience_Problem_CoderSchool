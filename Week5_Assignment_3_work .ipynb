{
  "nbformat": 4,
  "nbformat_minor": 0,
  "metadata": {
    "kernelspec": {
      "display_name": "Python 3",
      "language": "python",
      "name": "python3"
    },
    "language_info": {
      "codemirror_mode": {
        "name": "ipython",
        "version": 3
      },
      "file_extension": ".py",
      "mimetype": "text/x-python",
      "name": "python",
      "nbconvert_exporter": "python",
      "pygments_lexer": "ipython3",
      "version": "3.6.5"
    },
    "colab": {
      "name": "Assignment_3_work.ipynb",
      "provenance": [],
      "collapsed_sections": [],
      "toc_visible": true
    }
  },
  "cells": [
    {
      "cell_type": "markdown",
      "metadata": {
        "id": "vF_BhxDqFSju",
        "colab_type": "text"
      },
      "source": [
        "[Bag of Words Meets Bags of Popcorn](https://www.kaggle.com/c/word2vec-nlp-tutorial/data)\n",
        "======\n",
        "\n",
        "## Data Set\n",
        "\n",
        "The labeled data set consists of 50,000 IMDB movie reviews, specially selected for sentiment analysis. The sentiment of reviews is binary, meaning the IMDB rating < 5 results in a sentiment score of 0, and rating >=7 have a sentiment score of 1. No individual movie has more than 30 reviews. The 25,000 review labeled training set does not include any of the same movies as the 25,000 review test set. In addition, there are another 50,000 IMDB reviews provided without any rating labels.\n",
        "\n",
        "## File descriptions\n",
        "\n",
        "labeledTrainData - The labeled training set. The file is tab-delimited and has a header row followed by 25,000 rows containing an id, sentiment, and text for each review.\n",
        "## Data fields\n",
        "\n",
        "* id - Unique ID of each review\n",
        "* sentiment - Sentiment of the review; 1 for positive reviews and 0 for negative reviews\n",
        "* review - Text of the review\n",
        "\n",
        "## Objective\n",
        "Objective of this dataset is base on **review** we predict **sentiment** (positive or negative) so X is **review** column and y is **sentiment** column"
      ]
    },
    {
      "cell_type": "markdown",
      "metadata": {
        "id": "JnbZEifDFSjv",
        "colab_type": "text"
      },
      "source": [
        "## 1. Load Dataset\n",
        "we only forcus on \"labeledTrainData.csv\" file\n",
        "\n",
        "Let's first of all have a look at the data.\n",
        "\n",
        "[Click here to download dataset](https://s3-ap-southeast-1.amazonaws.com/ml101-khanhnguyen/week3/assignment/labeledTrainData.tsv)"
      ]
    },
    {
      "cell_type": "code",
      "metadata": {
        "id": "42QrN7EeFSjw",
        "colab_type": "code",
        "colab": {}
      },
      "source": [
        "# Import pandas, numpy\n",
        "import pandas as pd\n",
        "import numpy as np"
      ],
      "execution_count": 0,
      "outputs": []
    },
    {
      "cell_type": "code",
      "metadata": {
        "id": "QbJ13aC5FSj5",
        "colab_type": "code",
        "outputId": "cf523a37-cb6e-47b0-9590-22c2ae0ad7d2",
        "colab": {
          "base_uri": "https://localhost:8080/",
          "height": 359
        }
      },
      "source": [
        "# Read dataset with extra params sep='\\t', encoding=\"latin-1\"\n",
        "sentiment = pd.read_csv('labeledTrainData.tsv',sep='\\t',encoding='latin-1')\n",
        "sentiment.sample(10)"
      ],
      "execution_count": 5,
      "outputs": [
        {
          "output_type": "execute_result",
          "data": {
            "text/html": [
              "<div>\n",
              "<style scoped>\n",
              "    .dataframe tbody tr th:only-of-type {\n",
              "        vertical-align: middle;\n",
              "    }\n",
              "\n",
              "    .dataframe tbody tr th {\n",
              "        vertical-align: top;\n",
              "    }\n",
              "\n",
              "    .dataframe thead th {\n",
              "        text-align: right;\n",
              "    }\n",
              "</style>\n",
              "<table border=\"1\" class=\"dataframe\">\n",
              "  <thead>\n",
              "    <tr style=\"text-align: right;\">\n",
              "      <th></th>\n",
              "      <th>id</th>\n",
              "      <th>sentiment</th>\n",
              "      <th>review</th>\n",
              "    </tr>\n",
              "  </thead>\n",
              "  <tbody>\n",
              "    <tr>\n",
              "      <th>4724</th>\n",
              "      <td>492_4</td>\n",
              "      <td>0</td>\n",
              "      <td>If you're after the real story of early Baroqu...</td>\n",
              "    </tr>\n",
              "    <tr>\n",
              "      <th>8299</th>\n",
              "      <td>5330_1</td>\n",
              "      <td>0</td>\n",
              "      <td>Some here have commented that this is the WORS...</td>\n",
              "    </tr>\n",
              "    <tr>\n",
              "      <th>12850</th>\n",
              "      <td>5878_4</td>\n",
              "      <td>0</td>\n",
              "      <td>As the front cover says \\The hamlet of our tim...</td>\n",
              "    </tr>\n",
              "    <tr>\n",
              "      <th>7533</th>\n",
              "      <td>1044_4</td>\n",
              "      <td>0</td>\n",
              "      <td>\\Raising Victor Vargas\\\" is one of those light...</td>\n",
              "    </tr>\n",
              "    <tr>\n",
              "      <th>14725</th>\n",
              "      <td>2718_2</td>\n",
              "      <td>0</td>\n",
              "      <td>This is the least scary film i have ever seen....</td>\n",
              "    </tr>\n",
              "    <tr>\n",
              "      <th>14653</th>\n",
              "      <td>11091_8</td>\n",
              "      <td>1</td>\n",
              "      <td>Life's going not to badly for Harry Mitchell, ...</td>\n",
              "    </tr>\n",
              "    <tr>\n",
              "      <th>10717</th>\n",
              "      <td>4080_3</td>\n",
              "      <td>0</td>\n",
              "      <td>This seems like one of those movies that we th...</td>\n",
              "    </tr>\n",
              "    <tr>\n",
              "      <th>5346</th>\n",
              "      <td>10882_2</td>\n",
              "      <td>0</td>\n",
              "      <td>This movie is one of the worst horror movies I...</td>\n",
              "    </tr>\n",
              "    <tr>\n",
              "      <th>6959</th>\n",
              "      <td>1193_1</td>\n",
              "      <td>0</td>\n",
              "      <td>You know how sometimes you can watch a crappy ...</td>\n",
              "    </tr>\n",
              "    <tr>\n",
              "      <th>11210</th>\n",
              "      <td>2666_1</td>\n",
              "      <td>0</td>\n",
              "      <td>honestly, if anyone has a brain, there's not 1...</td>\n",
              "    </tr>\n",
              "  </tbody>\n",
              "</table>\n",
              "</div>"
            ],
            "text/plain": [
              "            id  sentiment                                             review\n",
              "4724     492_4          0  If you're after the real story of early Baroqu...\n",
              "8299    5330_1          0  Some here have commented that this is the WORS...\n",
              "12850   5878_4          0  As the front cover says \\The hamlet of our tim...\n",
              "7533    1044_4          0  \\Raising Victor Vargas\\\" is one of those light...\n",
              "14725   2718_2          0  This is the least scary film i have ever seen....\n",
              "14653  11091_8          1  Life's going not to badly for Harry Mitchell, ...\n",
              "10717   4080_3          0  This seems like one of those movies that we th...\n",
              "5346   10882_2          0  This movie is one of the worst horror movies I...\n",
              "6959    1193_1          0  You know how sometimes you can watch a crappy ...\n",
              "11210   2666_1          0  honestly, if anyone has a brain, there's not 1..."
            ]
          },
          "metadata": {
            "tags": []
          },
          "execution_count": 5
        }
      ]
    },
    {
      "cell_type": "markdown",
      "metadata": {
        "id": "MHZyHOQWFSj9",
        "colab_type": "text"
      },
      "source": [
        "## 2. Preprocessing"
      ]
    },
    {
      "cell_type": "code",
      "metadata": {
        "id": "BoAcqjzIFSj-",
        "colab_type": "code",
        "outputId": "ef8ffcc8-3b5a-4ea8-a30e-51f158cc176d",
        "colab": {
          "base_uri": "https://localhost:8080/",
          "height": 51
        }
      },
      "source": [
        "# stop words\n",
        "import nltk\n",
        "nltk.download('stopwords')\n",
        "from nltk.corpus import stopwords\n",
        "stop = stopwords.words('english')\n"
      ],
      "execution_count": 6,
      "outputs": [
        {
          "output_type": "stream",
          "text": [
            "[nltk_data] Downloading package stopwords to /root/nltk_data...\n",
            "[nltk_data]   Unzipping corpora/stopwords.zip.\n"
          ],
          "name": "stdout"
        }
      ]
    },
    {
      "cell_type": "code",
      "metadata": {
        "id": "elTXUAhmFSkB",
        "colab_type": "code",
        "colab": {}
      },
      "source": [
        "# Removing special characters and \"trash\"\n",
        "import re\n",
        "def preprocessor(text):\n",
        "    # Remove HTML markup\n",
        "    text = re.sub('<[^>]*>', '', text)\n",
        "    # Save emoticons for later appending\n",
        "    # Your code here\n",
        "    emoticons = re.findall('(?::|;|=)(?:-)?(?:\\)|\\(|D|P)', text)\n",
        "    \n",
        "    # Remove any non-word character and append the emoticons,\n",
        "    # removing the nose character for standarization. Convert to lower case\n",
        "    # Your code here\n",
        "    text = (re.sub('[\\W]+', ' ', text.lower()) + ' ' + ' '.join(emoticons).replace('-', ''))\n",
        "    return text\n"
      ],
      "execution_count": 0,
      "outputs": []
    },
    {
      "cell_type": "code",
      "metadata": {
        "id": "p76fU4rzFSkK",
        "colab_type": "code",
        "colab": {}
      },
      "source": [
        "# tokenizer and stemming\n",
        "# tokenizer: to break down our twits in individual words\n",
        "# stemming: reducing a word to its root\n",
        "from nltk.stem import PorterStemmer\n",
        "# Your code here\n",
        "porter = PorterStemmer()\n",
        "\n",
        "def tokenizer(text):\n",
        "  token = []\n",
        "  token = text.split()\n",
        "  return token\n",
        "def tokenizer_porter(text):\n",
        "  token = []\n",
        "  token = [porter.stem(word) for word in text.split()]\n",
        "  return token # Your code here"
      ],
      "execution_count": 0,
      "outputs": []
    },
    {
      "cell_type": "code",
      "metadata": {
        "id": "yarHewJVFSkN",
        "colab_type": "code",
        "colab": {}
      },
      "source": [
        "# split the dataset in train and test\n",
        "# Your code here\n",
        "from sklearn.model_selection import train_test_split\n",
        "X = sentiment['review']\n",
        "y = sentiment['sentiment']\n",
        "X_train, X_test, y_train, y_test = train_test_split(X,y)"
      ],
      "execution_count": 0,
      "outputs": []
    },
    {
      "cell_type": "markdown",
      "metadata": {
        "id": "qrPab0JHFSkQ",
        "colab_type": "text"
      },
      "source": [
        "## 3. Create Model and Train \n",
        "\n",
        "Using **Pipeline** to concat **tfidf** step and **LogisticRegression** step"
      ]
    },
    {
      "cell_type": "code",
      "metadata": {
        "id": "EMCoYAK7FSkR",
        "colab_type": "code",
        "outputId": "6cb06744-9976-43c1-9473-2d95480f5af3",
        "colab": {
          "base_uri": "https://localhost:8080/",
          "height": 479
        }
      },
      "source": [
        "# Import Pipeline, LogisticRegression, TfidfVectorizer\n",
        "from sklearn.pipeline import Pipeline\n",
        "from sklearn.linear_model import LogisticRegression\n",
        "from sklearn.feature_extraction.text import TfidfVectorizer\n",
        "tfidf = TfidfVectorizer(stop_words=stop,\n",
        "                        tokenizer=tokenizer_porter,\n",
        "                        preprocessor=preprocessor)\n",
        "\n",
        "clf = Pipeline([('vect', tfidf),\n",
        "                ('clf', LogisticRegression(random_state=0))])\n",
        "clf.fit(X_train,y_train)"
      ],
      "execution_count": 11,
      "outputs": [
        {
          "output_type": "stream",
          "text": [
            "/usr/local/lib/python3.6/dist-packages/sklearn/feature_extraction/text.py:300: UserWarning: Your stop_words may be inconsistent with your preprocessing. Tokenizing the stop words generated tokens ['abov', 'ani', 'becaus', 'befor', 'doe', 'dure', 'ha', 'hi', 'onc', 'onli', 'ourselv', 'themselv', 'thi', 'veri', 'wa', 'whi', 'yourselv'] not in stop_words.\n",
            "  'stop_words.' % sorted(inconsistent))\n",
            "/usr/local/lib/python3.6/dist-packages/sklearn/linear_model/logistic.py:432: FutureWarning: Default solver will be changed to 'lbfgs' in 0.22. Specify a solver to silence this warning.\n",
            "  FutureWarning)\n"
          ],
          "name": "stderr"
        },
        {
          "output_type": "execute_result",
          "data": {
            "text/plain": [
              "Pipeline(memory=None,\n",
              "         steps=[('vect',\n",
              "                 TfidfVectorizer(analyzer='word', binary=False,\n",
              "                                 decode_error='strict',\n",
              "                                 dtype=<class 'numpy.float64'>,\n",
              "                                 encoding='utf-8', input='content',\n",
              "                                 lowercase=True, max_df=1.0, max_features=None,\n",
              "                                 min_df=1, ngram_range=(1, 1), norm='l2',\n",
              "                                 preprocessor=<function preprocessor at 0x7f2c03412158>,\n",
              "                                 smooth_idf=True,\n",
              "                                 stop_words=['i', 'me', 'my', 'myself', '...\n",
              "                                 token_pattern='(?u)\\\\b\\\\w\\\\w+\\\\b',\n",
              "                                 tokenizer=<function tokenizer_porter at 0x7f2c03412730>,\n",
              "                                 use_idf=True, vocabulary=None)),\n",
              "                ('clf',\n",
              "                 LogisticRegression(C=1.0, class_weight=None, dual=False,\n",
              "                                    fit_intercept=True, intercept_scaling=1,\n",
              "                                    l1_ratio=None, max_iter=100,\n",
              "                                    multi_class='warn', n_jobs=None,\n",
              "                                    penalty='l2', random_state=0, solver='warn',\n",
              "                                    tol=0.0001, verbose=0, warm_start=False))],\n",
              "         verbose=False)"
            ]
          },
          "metadata": {
            "tags": []
          },
          "execution_count": 11
        }
      ]
    },
    {
      "cell_type": "markdown",
      "metadata": {
        "id": "7d1J5583FSkV",
        "colab_type": "text"
      },
      "source": [
        "## 4. Evaluate Model"
      ]
    },
    {
      "cell_type": "code",
      "metadata": {
        "id": "-vl8ypzuFSkc",
        "colab_type": "code",
        "colab": {}
      },
      "source": [
        "# Using Test dataset to evaluate model\n",
        "# classification_report\n",
        "# confusion matrix\n",
        "y_predict = clf.predict(X_test)"
      ],
      "execution_count": 0,
      "outputs": []
    },
    {
      "cell_type": "code",
      "metadata": {
        "id": "ST_zwaGdJfsM",
        "colab_type": "code",
        "outputId": "6d0919ba-08b4-45cf-9cac-419444220893",
        "colab": {
          "base_uri": "https://localhost:8080/",
          "height": 34
        }
      },
      "source": [
        "from sklearn.metrics import accuracy_score, confusion_matrix, classification_report\n",
        "from sklearn.metrics import multilabel_confusion_matrix\n",
        "accuracy_score(y_test, y_predict)"
      ],
      "execution_count": 13,
      "outputs": [
        {
          "output_type": "execute_result",
          "data": {
            "text/plain": [
              "0.8755656108597285"
            ]
          },
          "metadata": {
            "tags": []
          },
          "execution_count": 13
        }
      ]
    },
    {
      "cell_type": "code",
      "metadata": {
        "id": "oKUf1oWfKW0_",
        "colab_type": "code",
        "outputId": "80eefc8f-af30-4b6f-ee59-f298303b91d2",
        "colab": {
          "base_uri": "https://localhost:8080/",
          "height": 170
        }
      },
      "source": [
        "classification_report(y_test, y_predict).split('\\n')"
      ],
      "execution_count": 14,
      "outputs": [
        {
          "output_type": "execute_result",
          "data": {
            "text/plain": [
              "['              precision    recall  f1-score   support',\n",
              " '',\n",
              " '           0       0.90      0.85      0.87      2426',\n",
              " '           1       0.86      0.90      0.88      2436',\n",
              " '',\n",
              " '    accuracy                           0.88      4862',\n",
              " '   macro avg       0.88      0.88      0.88      4862',\n",
              " 'weighted avg       0.88      0.88      0.88      4862',\n",
              " '']"
            ]
          },
          "metadata": {
            "tags": []
          },
          "execution_count": 14
        }
      ]
    },
    {
      "cell_type": "code",
      "metadata": {
        "id": "v990JGLaJxyH",
        "colab_type": "code",
        "outputId": "505e6f6a-35c7-4b69-e85f-b14e86348cdc",
        "colab": {
          "base_uri": "https://localhost:8080/",
          "height": 269
        }
      },
      "source": [
        "import seaborn as sns\n",
        "sns.heatmap(confusion_matrix(y_test, y_predict));"
      ],
      "execution_count": 15,
      "outputs": [
        {
          "output_type": "display_data",
          "data": {
            "image/png": "[encoded data removed]",
            "text/plain": [
              "<Figure size 432x288 with 2 Axes>"
            ]
          },
          "metadata": {
            "tags": []
          }
        }
      ]
    },
    {
      "cell_type": "markdown",
      "metadata": {
        "id": "G8xYlgfXFSke",
        "colab_type": "text"
      },
      "source": [
        "## 5. Export Model "
      ]
    },
    {
      "cell_type": "code",
      "metadata": {
        "id": "mmB1wlFtFSkg",
        "colab_type": "code",
        "colab": {}
      },
      "source": [
        "# Using pickle to export our trained model\n",
        "import pickle\n",
        "import os\n",
        "pickle.dump(clf, open(os.path.join('logisticRegression.pkl'), 'wb'), protocol=4)"
      ],
      "execution_count": 0,
      "outputs": []
    }
  ]
}